{
  "cells": [
    {
      "cell_type": "markdown",
      "metadata": {
        "id": "view-in-github",
        "colab_type": "text"
      },
      "source": [
        "<a href=\"https://colab.research.google.com/github/VigaNik/AbsorvePDFdata/blob/main/HeartDiseaseUL.ipynb\" target=\"_parent\"><img src=\"https://colab.research.google.com/assets/colab-badge.svg\" alt=\"Open In Colab\"/></a>"
      ]
    },
    {
      "cell_type": "markdown",
      "metadata": {
        "id": "IJMgOql5Imid"
      },
      "source": [
        "#Starting"
      ]
    },
    {
      "cell_type": "code",
      "execution_count": 1,
      "metadata": {
        "colab": {
          "base_uri": "https://localhost:8080/"
        },
        "id": "URlgqXo0-Q5_",
        "outputId": "506e8477-ddaf-4acd-dd7c-a3e07c13496f"
      },
      "outputs": [
        {
          "output_type": "stream",
          "name": "stdout",
          "text": [
            "Path to dataset files: /kaggle/input/personal-key-indicators-of-heart-disease\n"
          ]
        }
      ],
      "source": [
        "import os\n",
        "import pandas as pd\n",
        "import kagglehub\n",
        "\n",
        "import kagglehub\n",
        "\n",
        "# Download latest version\n",
        "path = kagglehub.dataset_download(\"kamilpytlak/personal-key-indicators-of-heart-disease\")\n",
        "\n",
        "print(\"Path to dataset files:\", path)"
      ]
    },
    {
      "cell_type": "code",
      "execution_count": 2,
      "metadata": {
        "colab": {
          "base_uri": "https://localhost:8080/"
        },
        "id": "QHD6rEl5--V-",
        "outputId": "5208fd0d-6809-45f6-b6ed-7b172a8a675a"
      },
      "outputs": [
        {
          "output_type": "stream",
          "name": "stdout",
          "text": [
            "Files in folder: ['2020', '2022']\n"
          ]
        }
      ],
      "source": [
        "files = os.listdir(path)\n",
        "print(\"Files in folder:\", files)"
      ]
    },
    {
      "cell_type": "code",
      "execution_count": 3,
      "metadata": {
        "colab": {
          "base_uri": "https://localhost:8080/"
        },
        "id": "u3C94ZUW_Cjd",
        "outputId": "d1bfac79-a59b-4790-8740-eae6c2493466"
      },
      "outputs": [
        {
          "output_type": "stream",
          "name": "stdout",
          "text": [
            "Files after extraction ['heart_2020_cleaned.csv']\n"
          ]
        }
      ],
      "source": [
        "files = os.listdir(path+'/2020')\n",
        "print(\"Files after extraction\", files)\n"
      ]
    },
    {
      "cell_type": "code",
      "execution_count": 4,
      "metadata": {
        "colab": {
          "base_uri": "https://localhost:8080/"
        },
        "id": "-XC6r1Wy_EP1",
        "outputId": "8579c453-1a17-483f-c0bd-f970123f7909"
      },
      "outputs": [
        {
          "output_type": "stream",
          "name": "stdout",
          "text": [
            "CSV fail: heart_2020_cleaned.csv\n"
          ]
        }
      ],
      "source": [
        "csv_files = [f for f in files if f.endswith('.csv')]\n",
        "print(\"CSV fail:\", csv_files[0])"
      ]
    },
    {
      "cell_type": "code",
      "execution_count": 5,
      "metadata": {
        "id": "CjXan1ai_Ggx"
      },
      "outputs": [],
      "source": [
        "csv_file = os.path.join(path, '2020', csv_files[0])\n",
        "df = pd.read_csv(csv_file)\n",
        "\n"
      ]
    },
    {
      "cell_type": "code",
      "execution_count": 6,
      "metadata": {
        "colab": {
          "base_uri": "https://localhost:8080/"
        },
        "collapsed": true,
        "id": "EPD-1Ojw_NBw",
        "outputId": "78a9e10e-e572-498e-bc96-d8cbc627da97"
      },
      "outputs": [
        {
          "output_type": "stream",
          "name": "stdout",
          "text": [
            "\n",
            "📄 First 5 rows of the dataset:\n",
            "  HeartDisease    BMI Smoking AlcoholDrinking Stroke  PhysicalHealth  \\\n",
            "0           No  16.60     Yes              No     No             3.0   \n",
            "1           No  20.34      No              No    Yes             0.0   \n",
            "2           No  26.58     Yes              No     No            20.0   \n",
            "3           No  24.21      No              No     No             0.0   \n",
            "4           No  23.71      No              No     No            28.0   \n",
            "\n",
            "   MentalHealth DiffWalking     Sex  AgeCategory   Race Diabetic  \\\n",
            "0          30.0          No  Female        55-59  White      Yes   \n",
            "1           0.0          No  Female  80 or older  White       No   \n",
            "2          30.0          No    Male        65-69  White      Yes   \n",
            "3           0.0          No  Female        75-79  White       No   \n",
            "4           0.0         Yes  Female        40-44  White       No   \n",
            "\n",
            "  PhysicalActivity  GenHealth  SleepTime Asthma KidneyDisease SkinCancer  \n",
            "0              Yes  Very good        5.0    Yes            No        Yes  \n",
            "1              Yes  Very good        7.0     No            No         No  \n",
            "2              Yes       Fair        8.0    Yes            No         No  \n",
            "3               No       Good        6.0     No            No        Yes  \n",
            "4              Yes  Very good        8.0     No            No         No  \n",
            "\n",
            "ℹ️ General information about the dataset:\n",
            "<class 'pandas.core.frame.DataFrame'>\n",
            "RangeIndex: 319795 entries, 0 to 319794\n",
            "Data columns (total 18 columns):\n",
            " #   Column            Non-Null Count   Dtype  \n",
            "---  ------            --------------   -----  \n",
            " 0   HeartDisease      319795 non-null  object \n",
            " 1   BMI               319795 non-null  float64\n",
            " 2   Smoking           319795 non-null  object \n",
            " 3   AlcoholDrinking   319795 non-null  object \n",
            " 4   Stroke            319795 non-null  object \n",
            " 5   PhysicalHealth    319795 non-null  float64\n",
            " 6   MentalHealth      319795 non-null  float64\n",
            " 7   DiffWalking       319795 non-null  object \n",
            " 8   Sex               319795 non-null  object \n",
            " 9   AgeCategory       319795 non-null  object \n",
            " 10  Race              319795 non-null  object \n",
            " 11  Diabetic          319795 non-null  object \n",
            " 12  PhysicalActivity  319795 non-null  object \n",
            " 13  GenHealth         319795 non-null  object \n",
            " 14  SleepTime         319795 non-null  float64\n",
            " 15  Asthma            319795 non-null  object \n",
            " 16  KidneyDisease     319795 non-null  object \n",
            " 17  SkinCancer        319795 non-null  object \n",
            "dtypes: float64(4), object(14)\n",
            "memory usage: 43.9+ MB\n",
            "\n",
            "📊 Statistical summary of the dataset:\n",
            "                 BMI  PhysicalHealth   MentalHealth      SleepTime\n",
            "count  319795.000000    319795.00000  319795.000000  319795.000000\n",
            "mean       28.325399         3.37171       3.898366       7.097075\n",
            "std         6.356100         7.95085       7.955235       1.436007\n",
            "min        12.020000         0.00000       0.000000       1.000000\n",
            "25%        24.030000         0.00000       0.000000       6.000000\n",
            "50%        27.340000         0.00000       0.000000       7.000000\n",
            "75%        31.420000         2.00000       3.000000       8.000000\n",
            "max        94.850000        30.00000      30.000000      24.000000\n"
          ]
        }
      ],
      "source": [
        "# Display the first 5 rows of the dataset\n",
        "print(\"\\n📄 First 5 rows of the dataset:\")\n",
        "print(df.head())\n",
        "\n",
        "# Show general information about the dataset\n",
        "print(\"\\nℹ️ General information about the dataset:\")\n",
        "df.info()\n",
        "\n",
        "# Show statistical summary of numerical columns\n",
        "print(\"\\n📊 Statistical summary of the dataset:\")\n",
        "print(df.describe())\n"
      ]
    },
    {
      "cell_type": "code",
      "execution_count": 7,
      "metadata": {
        "colab": {
          "base_uri": "https://localhost:8080/"
        },
        "id": "qH1jGlce_QQf",
        "outputId": "7f548463-7b24-4528-cc93-93a80a648afd"
      },
      "outputs": [
        {
          "output_type": "execute_result",
          "data": {
            "text/plain": [
              "(319795, 18)"
            ]
          },
          "metadata": {},
          "execution_count": 7
        }
      ],
      "source": [
        "df.shape"
      ]
    },
    {
      "cell_type": "markdown",
      "metadata": {
        "id": "_jAbrFE2jRzR"
      },
      "source": [
        "#Normalising"
      ]
    },
    {
      "cell_type": "code",
      "source": [
        "df_original = df.copy()"
      ],
      "metadata": {
        "id": "oakrJS_t1VQC"
      },
      "execution_count": 8,
      "outputs": []
    },
    {
      "cell_type": "code",
      "execution_count": 9,
      "metadata": {
        "colab": {
          "base_uri": "https://localhost:8080/"
        },
        "id": "kIFprJEI_SB7",
        "outputId": "26599413-cae0-4a48-a47e-6e4ad9722c6a"
      },
      "outputs": [
        {
          "output_type": "stream",
          "name": "stderr",
          "text": [
            "<ipython-input-9-38bdd814babf>:1: FutureWarning: Downcasting behavior in `replace` is deprecated and will be removed in a future version. To retain the old behavior, explicitly call `result.infer_objects(copy=False)`. To opt-in to the future behavior, set `pd.set_option('future.no_silent_downcasting', True)`\n",
            "  df.replace({'No': 0, 'Yes': 1}, inplace=True)\n",
            "<ipython-input-9-38bdd814babf>:2: FutureWarning: Downcasting behavior in `replace` is deprecated and will be removed in a future version. To retain the old behavior, explicitly call `result.infer_objects(copy=False)`. To opt-in to the future behavior, set `pd.set_option('future.no_silent_downcasting', True)`\n",
            "  df['Sex'] = df['Sex'].replace({'Female': 0, 'Male': 1})\n"
          ]
        }
      ],
      "source": [
        "df.replace({'No': 0, 'Yes': 1}, inplace=True)\n",
        "df['Sex'] = df['Sex'].replace({'Female': 0, 'Male': 1})"
      ]
    },
    {
      "cell_type": "code",
      "execution_count": 10,
      "metadata": {
        "colab": {
          "base_uri": "https://localhost:8080/"
        },
        "id": "tSC987ly_Umu",
        "outputId": "c65fbdef-76e5-4844-dc15-8b3594308e65"
      },
      "outputs": [
        {
          "output_type": "stream",
          "name": "stderr",
          "text": [
            "<ipython-input-10-94e40b211fd2>:7: FutureWarning: Downcasting behavior in `replace` is deprecated and will be removed in a future version. To retain the old behavior, explicitly call `result.infer_objects(copy=False)`. To opt-in to the future behavior, set `pd.set_option('future.no_silent_downcasting', True)`\n",
            "  df['AgeCategoryAvarage'] = df['AgeCategory'].replace({'18-24':21,\n"
          ]
        },
        {
          "output_type": "stream",
          "name": "stdout",
          "text": [
            "[ 7 12  9 11  4 10  8  6  5  0  3  2  1]\n"
          ]
        },
        {
          "output_type": "stream",
          "name": "stderr",
          "text": [
            "<ipython-input-10-94e40b211fd2>:21: FutureWarning: Downcasting behavior in `replace` is deprecated and will be removed in a future version. To retain the old behavior, explicitly call `result.infer_objects(copy=False)`. To opt-in to the future behavior, set `pd.set_option('future.no_silent_downcasting', True)`\n",
            "  df['AgeCategory'] = df['AgeCategory'].replace({'18-24':0,\n"
          ]
        }
      ],
      "source": [
        "import pandas as pd\n",
        "\n",
        "age_order = ['18-24', '25-29', '30-34', '35-39', '40-44', '45-49', '50-54', '55-59', '60-64', '65-69', '70-74', '75-79', '80 or older']\n",
        "\n",
        "#df['AgeCategory'] = pd.Categorical(df['AgeCategory'], categories=age_order, ordered=True)\n",
        "#df['AgeCategory'] = df['AgeCategory'].cat.codes\n",
        "df['AgeCategoryAvarage'] = df['AgeCategory'].replace({'18-24':21,\n",
        "                                            '25-29':27,\n",
        "                                            '30-34':32,\n",
        "                                            '35-39':37,\n",
        "                                            '40-44':42,\n",
        "                                            '45-49':47,\n",
        "                                            '50-54':52,\n",
        "                                            '55-59':57,\n",
        "                                            '60-64':62,\n",
        "                                            '65-69':67,\n",
        "                                            '70-74':72,\n",
        "                                            '75-79':77,\n",
        "                                            '80 or older':85})\n",
        "\n",
        "df['AgeCategory'] = df['AgeCategory'].replace({'18-24':0,\n",
        "                                            '25-29':1,\n",
        "                                            '30-34':2,\n",
        "                                            '35-39':3,\n",
        "                                            '40-44':4,\n",
        "                                            '45-49':5,\n",
        "                                            '50-54':6,\n",
        "                                            '55-59':7,\n",
        "                                            '60-64':8,\n",
        "                                            '65-69':9,\n",
        "                                            '70-74':10,\n",
        "                                            '75-79':11,\n",
        "                                            '80 or older':12})\n",
        "\n",
        "unique_values = df['AgeCategory'].unique()\n",
        "print(unique_values)"
      ]
    },
    {
      "cell_type": "code",
      "execution_count": 11,
      "metadata": {
        "colab": {
          "base_uri": "https://localhost:8080/"
        },
        "id": "s-ErAQ34_W8r",
        "outputId": "8dc38170-7f41-4c51-ed46-b49d55d822df"
      },
      "outputs": [
        {
          "output_type": "stream",
          "name": "stdout",
          "text": [
            "Возрастные группы: [ 7 12  9 11  4 10  8  6  5  0  3  2  1]\n"
          ]
        }
      ],
      "source": [
        "import pandas as pd\n",
        "def age_category_4(x):\n",
        "    if x <= 1:         # 18–29\n",
        "        return 0       # Young\n",
        "    elif x <= 4:       # 30-45\n",
        "        return 0.33    # Adult\n",
        "    elif x <= 7:       # 40–60\n",
        "        return 0.66    # Middle-aged\n",
        "    else:              # 55+\n",
        "        return 1.0     # Senior\n",
        "\n",
        "df['AgeCategoryGrouped'] = df['AgeCategory'].apply(age_category_4)\n",
        "print(\"Возрастные группы:\", unique_values)\n"
      ]
    },
    {
      "cell_type": "code",
      "execution_count": 12,
      "metadata": {
        "id": "z_DUZd8Y_b0A"
      },
      "outputs": [],
      "source": [
        "#df.drop('AgeCategory', axis=1, inplace=True)"
      ]
    },
    {
      "cell_type": "code",
      "execution_count": 13,
      "metadata": {
        "colab": {
          "base_uri": "https://localhost:8080/"
        },
        "id": "wijMnpq7_eGJ",
        "outputId": "391667e8-93b8-4175-fb33-98ad8db957a3"
      },
      "outputs": [
        {
          "output_type": "stream",
          "name": "stdout",
          "text": [
            "Unique values: ['White' 'Black' 'Asian' 'American Indian/Alaskan Native' 'Other'\n",
            " 'Hispanic']\n",
            "Added columns: ['Race_White', 'Race_Black', 'Race_Asian', 'Race_American Indian/Alaskan Native', 'Race_Other', 'Race_Hispanic']\n"
          ]
        }
      ],
      "source": [
        "# Get unique values in the 'Race' column\n",
        "unique_values = df['Race'].unique()\n",
        "print(\"Unique values:\", unique_values)\n",
        "\n",
        "# Define the desired order of race categories\n",
        "race_order = ['White', 'Black', 'Asian', 'American Indian/Alaskan Native', 'Other', 'Hispanic']\n",
        "\n",
        "# Ensure 'Race' is treated as a categorical variable with a fixed set of categories\n",
        "df['Race'] = pd.Categorical(df['Race'], categories=race_order, ordered=False)\n",
        "\n",
        "# Apply One-Hot Encoding based on the defined race categories\n",
        "race_dummies = pd.get_dummies(df['Race'], prefix='Race')\n",
        "\n",
        "# Add the encoded columns back to the original DataFrame\n",
        "df = pd.concat([df, race_dummies], axis=1)\n",
        "\n",
        "# Convert boolean columns to integers (0 or 1)\n",
        "race_cols = [col for col in df.columns if col.startswith('Race_')]\n",
        "df[race_cols] = df[race_cols].astype(int)\n",
        "\n",
        "# Display the names of the added columns\n",
        "print(\"Added columns:\", race_dummies.columns.tolist())\n"
      ]
    },
    {
      "cell_type": "code",
      "execution_count": 14,
      "metadata": {
        "colab": {
          "base_uri": "https://localhost:8080/"
        },
        "id": "FtxDkpVg_gCJ",
        "outputId": "02a6671f-15d5-4e34-f05a-877d3c509855"
      },
      "outputs": [
        {
          "output_type": "stream",
          "name": "stdout",
          "text": [
            "['Very good' 'Fair' 'Good' 'Poor' 'Excellent']\n",
            "[0.75 0.25 0.5  0.   1.  ]\n"
          ]
        },
        {
          "output_type": "stream",
          "name": "stderr",
          "text": [
            "<ipython-input-14-9a20443c2542>:8: FutureWarning: Downcasting behavior in `replace` is deprecated and will be removed in a future version. To retain the old behavior, explicitly call `result.infer_objects(copy=False)`. To opt-in to the future behavior, set `pd.set_option('future.no_silent_downcasting', True)`\n",
            "  df['GenHealth'] = df['GenHealth'].replace({\n"
          ]
        }
      ],
      "source": [
        "unique_values = df['GenHealth'].unique()\n",
        "print(unique_values)\n",
        "\n",
        "# Define the desired order for general health categories\n",
        "age_order = ['Very good', 'Fair', 'Good', 'Poor', 'Excellent']\n",
        "\n",
        "# Map general health categories to numerical values\n",
        "df['GenHealth'] = df['GenHealth'].replace({\n",
        "    'Very good': 0.75,\n",
        "    'Fair': 0.25,\n",
        "    'Good': 0.5,\n",
        "    'Poor': 0,\n",
        "    'Excellent': 1,\n",
        "})\n",
        "\n",
        "# Check the updated unique values\n",
        "unique_values = df['GenHealth'].unique()\n",
        "print(unique_values)\n"
      ]
    },
    {
      "cell_type": "code",
      "execution_count": 15,
      "metadata": {
        "colab": {
          "base_uri": "https://localhost:8080/"
        },
        "id": "d0cH6mzE_iFk",
        "outputId": "41abbc46-d2b2-480a-9215-afed3c222a1f"
      },
      "outputs": [
        {
          "output_type": "stream",
          "name": "stdout",
          "text": [
            "Original values (after string conversion): ['1' '0' 'No, borderline diabetes' 'Yes (during pregnancy)']\n",
            "Transformed values: [1.   0.   0.33 0.67]\n"
          ]
        }
      ],
      "source": [
        "# Convert all values to strings to ensure consistency\n",
        "df['Diabetic'] = df['Diabetic'].astype(str)\n",
        "\n",
        "# Display current unique values after conversion\n",
        "unique_values = df['Diabetic'].unique()\n",
        "print(\"Original values (after string conversion):\", unique_values)\n",
        "\n",
        "# Define a mapping dictionary to convert all possible categories\n",
        "diabetic_mapping = {\n",
        "    '0': 0.0,   # Assuming 0 means \"No\"\n",
        "    '1': 1.0,   # Assuming 1 means \"Yes\"\n",
        "    'No': 0.0,\n",
        "    'No, borderline diabetes': 0.33,\n",
        "    'Yes (during pregnancy)': 0.67,\n",
        "    'Yes': 1.0\n",
        "}\n",
        "\n",
        "# Apply the mapping\n",
        "df['Diabetic'] = df['Diabetic'].map(diabetic_mapping)\n",
        "\n",
        "# Check the transformed values\n",
        "unique_values = df['Diabetic'].unique()\n",
        "print(\"Transformed values:\", unique_values)\n"
      ]
    },
    {
      "cell_type": "code",
      "source": [
        "import matplotlib.pyplot as plt\n",
        "import seaborn as sns\n",
        "\n",
        "plt.figure(figsize=(10, 5))\n",
        "sns.histplot(df['SleepTime'], bins=24, kde=False, color='skyblue', edgecolor='black')\n",
        "\n",
        "# Plot title and axis labels\n",
        "plt.title(\"📊 Distribution of Sleep Time (Hours)\")\n",
        "plt.xlabel(\"Hours of Sleep\")\n",
        "plt.ylabel(\"Number of Observations\")\n",
        "\n",
        "# X-axis ticks from 0 to 24\n",
        "plt.xticks(range(0, 25))\n",
        "\n",
        "# Add grid for better readability\n",
        "plt.grid(True, linestyle='--', alpha=0.5)\n",
        "\n",
        "plt.tight_layout()\n",
        "plt.show()\n"
      ],
      "metadata": {
        "colab": {
          "base_uri": "https://localhost:8080/",
          "height": 0
        },
        "id": "1DW8WVBaOUGx",
        "outputId": "51ce9f24-2586-45d4-dd17-22db5dcb9884"
      },
      "execution_count": 16,
      "outputs": [
        {
          "output_type": "stream",
          "name": "stderr",
          "text": [
            "<ipython-input-16-531f83826c23>:18: UserWarning: Glyph 128202 (\\N{BAR CHART}) missing from font(s) DejaVu Sans.\n",
            "  plt.tight_layout()\n",
            "/usr/local/lib/python3.11/dist-packages/IPython/core/pylabtools.py:151: UserWarning: Glyph 128202 (\\N{BAR CHART}) missing from font(s) DejaVu Sans.\n",
            "  fig.canvas.print_figure(bytes_io, **kw)\n"
          ]
        },
        {
          "output_type": "display_data",
          "data": {
            "text/plain": [
              "<Figure size 1000x500 with 1 Axes>"
            ],
            "image/png": "[encoded data removed]"
          },
          "metadata": {}
        }
      ]
    },
    {
      "cell_type": "code",
      "source": [
        "# Check the range of values in the 'SleepTime' column\n",
        "min_sleep = df['SleepTime'].min()\n",
        "max_sleep = df['SleepTime'].max()\n",
        "print(f\"Minimum sleep time: {min_sleep} hours\")\n",
        "print(f\"Maximum sleep time: {max_sleep} hours\")\n",
        "\n",
        "# Function to assign a sleep score based on the number of hours slept\n",
        "def sleep_score_v2(hours):\n",
        "    if 7 <= hours <= 9:\n",
        "        return 1.0  # Optimal\n",
        "    elif 6 <= hours < 7 or 9 < hours <= 10:\n",
        "        return 0.6  # Slight deviation\n",
        "    elif 5 <= hours < 6 or 10 < hours <= 12:\n",
        "        return 0.3  # Borderline\n",
        "    else:\n",
        "        return 0.0  # Abnormal (too little or too much sleep)\n",
        "\n",
        "# Apply the scoring function to create a new column\n",
        "df['SleepTimeScore'] = df['SleepTime'].apply(sleep_score_v2)"
      ],
      "metadata": {
        "colab": {
          "base_uri": "https://localhost:8080/"
        },
        "id": "BxpewRQ4glMS",
        "outputId": "9b7455bd-11aa-4b81-824f-5ae7f7b6a32d"
      },
      "execution_count": 17,
      "outputs": [
        {
          "output_type": "stream",
          "name": "stdout",
          "text": [
            "Minimum sleep time: 1.0 hours\n",
            "Maximum sleep time: 24.0 hours\n"
          ]
        }
      ]
    },
    {
      "cell_type": "code",
      "execution_count": 18,
      "metadata": {
        "colab": {
          "base_uri": "https://localhost:8080/"
        },
        "id": "EVY2Io9NE-4i",
        "outputId": "7b73f025-b838-4c94-d1df-23a77e3030a6"
      },
      "outputs": [
        {
          "output_type": "stream",
          "name": "stdout",
          "text": [
            "Minimum MentalHealth: 0.0\n",
            "Maximum MentalHealth: 30.0\n",
            "Minimum normalized value: 0.0\n",
            "Maximum normalized value: 1.0\n",
            "count    319795.000000\n",
            "mean          0.870054\n",
            "std           0.265175\n",
            "min           0.000000\n",
            "25%           0.900000\n",
            "50%           1.000000\n",
            "75%           1.000000\n",
            "max           1.000000\n",
            "Name: MentalHealth_normalized, dtype: float64\n"
          ]
        }
      ],
      "source": [
        "# Check the range of values in the 'MentalHealth' column\n",
        "min_mental = df['MentalHealth'].min()\n",
        "max_mental = df['MentalHealth'].max()\n",
        "print(f\"Minimum MentalHealth: {min_mental}\")\n",
        "print(f\"Maximum MentalHealth: {max_mental}\")\n",
        "\n",
        "# Normalize values to the [0, 1] range using min-max scaling\n",
        "df['MentalHealth_normalized'] = (df['MentalHealth'] - min_mental) / (max_mental - min_mental)\n",
        "\n",
        "# Invert the scale so that 1 = good mental health, 0 = poor mental health\n",
        "df['MentalHealth_normalized'] = 1 - df['MentalHealth_normalized']\n",
        "\n",
        "# Check the result\n",
        "print(f\"Minimum normalized value: {df['MentalHealth_normalized'].min()}\")\n",
        "print(f\"Maximum normalized value: {df['MentalHealth_normalized'].max()}\")\n",
        "\n",
        "# Display the distribution of normalized values\n",
        "print(df['MentalHealth_normalized'].describe())"
      ]
    },
    {
      "cell_type": "code",
      "source": [
        "def mental_health_score(val):\n",
        "    if val <= 0.2:\n",
        "        return 0.0     # Severe 24>= days of bed mood\n",
        "    elif val <= 0.4:\n",
        "        return 0.25    # Moderate 18>= days of bed mood\n",
        "    elif val <= 0.6:\n",
        "        return 0.5     # Average 12>= days of bed mood\n",
        "    elif val <= 0.8:\n",
        "        return 0.75    # Good 6>= days of bed mood\n",
        "    else:\n",
        "        return 1.0     # Excellent\n",
        "\n",
        "df['MentalHealthScore'] = df['MentalHealth_normalized'].apply(mental_health_score)\n"
      ],
      "metadata": {
        "id": "fvtsBc7kB7KF"
      },
      "execution_count": 19,
      "outputs": []
    },
    {
      "cell_type": "markdown",
      "source": [
        "MentalHealth_normalized\tnumber of days\n",
        "\n",
        "1.0\t(1 - 1.0) * 30=0\n",
        "\n",
        "0.75\t(1 - 0.75) * 30 = 7.5\n",
        "\n",
        "0.5\t(1 - 0.5) * 30 = 15\n",
        "\n",
        "0.25\t(1 - 0.25) * 30 = 22.5\n",
        "\n",
        "0.0\t(1 - 0.0) * 30 = 30"
      ],
      "metadata": {
        "id": "5JVU3ZQMZeZE"
      }
    },
    {
      "cell_type": "code",
      "execution_count": 20,
      "metadata": {
        "colab": {
          "base_uri": "https://localhost:8080/"
        },
        "id": "ztAOvK7UGe6B",
        "outputId": "e3a1f67f-b54d-40d2-d7e0-2e2828ec270b"
      },
      "outputs": [
        {
          "output_type": "stream",
          "name": "stdout",
          "text": [
            "Minimum PhysicalHealth: 0.0\n",
            "Maximum PhysicalHealth: 30.0\n",
            "Minimum normalized value: 0.0\n",
            "Maximum normalized value: 1.0\n",
            "count    319795.000000\n",
            "mean          0.887610\n",
            "std           0.265028\n",
            "min           0.000000\n",
            "25%           0.933333\n",
            "50%           1.000000\n",
            "75%           1.000000\n",
            "max           1.000000\n",
            "Name: PhysicalHealth_normalized, dtype: float64\n"
          ]
        }
      ],
      "source": [
        "# Check the range of values in the 'PhysicalHealth' column\n",
        "min_physical = df['PhysicalHealth'].min()\n",
        "max_physical = df['PhysicalHealth'].max()\n",
        "print(f\"Minimum PhysicalHealth: {min_physical}\")\n",
        "print(f\"Maximum PhysicalHealth: {max_physical}\")\n",
        "\n",
        "# Normalize values to the [0, 1] range using min-max scaling\n",
        "df['PhysicalHealth_normalized'] = (df['PhysicalHealth'] - min_physical) / (max_physical - min_physical)\n",
        "\n",
        "# Invert the scale so that 1 = good physical health, 0 = poor physical health\n",
        "df['PhysicalHealth_normalized'] = 1 - df['PhysicalHealth_normalized']\n",
        "\n",
        "# Check the result\n",
        "print(f\"Minimum normalized value: {df['PhysicalHealth_normalized'].min()}\")\n",
        "print(f\"Maximum normalized value: {df['PhysicalHealth_normalized'].max()}\")\n",
        "\n",
        "# Display the distribution of normalized values\n",
        "print(df['PhysicalHealth_normalized'].describe())"
      ]
    },
    {
      "cell_type": "code",
      "source": [
        "def physical_health_score(val):\n",
        "    if val <= 0.2:\n",
        "        return 0.0     # Severe 24-30 days of bed health\n",
        "    elif val <= 0.4:\n",
        "        return 0.25    # Moderate 18-23 dyas days of bed health\n",
        "    elif val <= 0.6:\n",
        "        return 0.5     # Average 12-17 days of bed health\n",
        "    elif val <= 0.8:\n",
        "        return 0.75    # Good 6-11 days of bed health\n",
        "    else:\n",
        "        return 1.0     # Excellent 0 days of bed health\n",
        "\n",
        "df['PhysicalHealthScore'] = df['PhysicalHealth_normalized'].apply(physical_health_score)\n"
      ],
      "metadata": {
        "id": "lTl_EpPOCPKt"
      },
      "execution_count": 21,
      "outputs": []
    },
    {
      "cell_type": "code",
      "source": [
        "# Create a numerical health score based on BMI\n",
        "def bmi_score(bmi):\n",
        "    if 18.5 <= bmi <= 24.9:\n",
        "        return 1.0  # Excellent\n",
        "    elif 25 <= bmi <= 29.9:\n",
        "        return 0.6  # Moderate deviation\n",
        "    elif 17.5 <= bmi < 18.5 or 30 <= bmi < 35:\n",
        "        return 0.3  # Borderline\n",
        "    else:\n",
        "        return 0.0  # Severe deviation\n",
        "\n",
        "# Apply the scoring function to the BMI column\n",
        "df['BMIScore'] = df['BMI'].apply(bmi_score)"
      ],
      "metadata": {
        "id": "ddZdmLxwdHej"
      },
      "execution_count": 22,
      "outputs": []
    },
    {
      "cell_type": "code",
      "source": [
        "df_catigorical = df.copy()\n",
        "\n",
        "df.drop(\"BMI\", axis=1, inplace=True)\n",
        "df.drop(\"PhysicalHealth\", axis=1, inplace=True)\n",
        "df.drop(\"PhysicalHealth_normalized\", axis=1, inplace=True)\n",
        "df.drop(\"MentalHealth\", axis=1, inplace=True)\n",
        "df.drop(\"MentalHealth_normalized\", axis=1, inplace=True)\n",
        "df.drop(\"SleepTime\", axis=1, inplace=True)\n",
        "df.drop(\"Race\", axis=1, inplace=True)\n",
        "df.drop(\"AgeCategory\", axis=1, inplace=True)\n",
        "df.drop(\"AgeCategoryAvarage\", axis=1, inplace=True)"
      ],
      "metadata": {
        "id": "u2iQ4QPZxynC"
      },
      "execution_count": 23,
      "outputs": []
    },
    {
      "cell_type": "markdown",
      "source": [
        "#Splited Data By Size or Fithers"
      ],
      "metadata": {
        "id": "-efgvvBIg1lj"
      }
    },
    {
      "cell_type": "code",
      "source": [
        "# Create a DataFrame for entries where HeartDisease = 0\n",
        "dfh = df[df['HeartDisease'] == 0].copy()\n",
        "\n",
        "# Create a DataFrame for entries where HeartDisease = 1\n",
        "dfs = df[df['HeartDisease'] == 1].copy()\n"
      ],
      "metadata": {
        "id": "SZdz5j9dhBFx"
      },
      "execution_count": 24,
      "outputs": []
    },
    {
      "cell_type": "code",
      "source": [
        "dfh.drop('HeartDisease', axis=1, inplace=True)\n",
        "dfh.shape\n",
        "\n",
        "dfs.drop('HeartDisease', axis=1, inplace=True)\n",
        "dfs.shape"
      ],
      "metadata": {
        "colab": {
          "base_uri": "https://localhost:8080/"
        },
        "id": "GR7mg1FthDC5",
        "outputId": "fd0ca0e5-dd7a-4449-9c5a-9ae96a9d5eae"
      },
      "execution_count": 25,
      "outputs": [
        {
          "output_type": "execute_result",
          "data": {
            "text/plain": [
              "(27373, 22)"
            ]
          },
          "metadata": {},
          "execution_count": 25
        }
      ]
    },
    {
      "cell_type": "code",
      "source": [
        "len(dfs)"
      ],
      "metadata": {
        "id": "5E-cZs4cg-pN",
        "colab": {
          "base_uri": "https://localhost:8080/"
        },
        "outputId": "22e0c0b7-991d-440e-aabd-6402c0e083ea"
      },
      "execution_count": 26,
      "outputs": [
        {
          "output_type": "execute_result",
          "data": {
            "text/plain": [
              "27373"
            ]
          },
          "metadata": {},
          "execution_count": 26
        }
      ]
    },
    {
      "cell_type": "code",
      "source": [
        "\"\"\"\n",
        "#**All data without HD (HD is target)**\n",
        "import cudf\n",
        "\n",
        "df_reduce_sample = df.sample(n=15000, random_state=42)\n",
        "df_dropHD = df_reduce_sample.copy()\n",
        "df_dropHD.drop('HeartDisease', axis=1, inplace=True)\n",
        "\n",
        "df_dropHD = cudf.DataFrame.from_pandas(df_dropHD)\n",
        "# convert to GPU DataFrame\n",
        "gdf = cudf.DataFrame.from_pandas(df_reduce_sample)\n",
        "\"\"\"\n"
      ],
      "metadata": {
        "id": "NICidsEPhZhu",
        "colab": {
          "base_uri": "https://localhost:8080/",
          "height": 0
        },
        "outputId": "1ea0cf71-690e-4e34-a339-9ae970dfcf98"
      },
      "execution_count": 27,
      "outputs": [
        {
          "output_type": "execute_result",
          "data": {
            "text/plain": [
              "\"\\n#**All data without HD (HD is target)**\\nimport cudf\\n\\ndf_reduce_sample = df.sample(n=15000, random_state=42)\\ndf_dropHD = df_reduce_sample.copy()\\ndf_dropHD.drop('HeartDisease', axis=1, inplace=True)\\n\\ndf_dropHD = cudf.DataFrame.from_pandas(df_dropHD)\\n# convert to GPU DataFrame\\ngdf = cudf.DataFrame.from_pandas(df_reduce_sample)\\n\""
            ],
            "application/vnd.google.colaboratory.intrinsic+json": {
              "type": "string"
            }
          },
          "metadata": {},
          "execution_count": 27
        }
      ]
    },
    {
      "cell_type": "code",
      "source": [
        "\n",
        "#**All data without HD (HD is target)**\n",
        "#gdf = cudf.DataFrame.from_pandas(df_reduce_sample)\n"
      ],
      "metadata": {
        "id": "E34ir3ZP8qZj"
      },
      "execution_count": 28,
      "outputs": []
    },
    {
      "cell_type": "code",
      "source": [
        "\n",
        "import cudf\n",
        "df_reduce_sample = dfs.sample(n=15000, random_state=42)\n",
        "df_dropHD = df_reduce_sample.copy()\n",
        "df_dropHD = cudf.DataFrame.from_pandas(df_dropHD)\n",
        "gdf = cudf.DataFrame.from_pandas(df_reduce_sample)"
      ],
      "metadata": {
        "id": "19MPTCAQDZle"
      },
      "execution_count": 29,
      "outputs": []
    },
    {
      "cell_type": "markdown",
      "source": [],
      "metadata": {
        "id": "BEDLFAivpgny"
      }
    },
    {
      "cell_type": "markdown",
      "source": [
        "#Df for saving all clasters"
      ],
      "metadata": {
        "id": "hahCK8F7TRCy"
      }
    },
    {
      "cell_type": "code",
      "source": [
        "\"\"\"\n",
        "#**All data without HD (HD is target)**\n",
        "#target = cudf.Series(df['HeartDisease']) # This was the original line causing the error\n",
        "target = cudf.Series(gdf['HeartDisease']) # Now target is created from gdf, which has the correct length\n",
        "\n",
        "df_clusters = gdf.to_pandas().copy()\n",
        "df_clusters['HeartDisease'] = target.to_pandas().values\n",
        "\"\"\""
      ],
      "metadata": {
        "id": "9Kj585ZOTc-v",
        "colab": {
          "base_uri": "https://localhost:8080/",
          "height": 0
        },
        "outputId": "dbbdfb01-1891-4f36-f460-7a4090e11e58"
      },
      "execution_count": 30,
      "outputs": [
        {
          "output_type": "execute_result",
          "data": {
            "text/plain": [
              "\"\\n#**All data without HD (HD is target)**\\n#target = cudf.Series(df['HeartDisease']) # This was the original line causing the error\\ntarget = cudf.Series(gdf['HeartDisease']) # Now target is created from gdf, which has the correct length\\n\\ndf_clusters = gdf.to_pandas().copy()\\ndf_clusters['HeartDisease'] = target.to_pandas().values\\n\""
            ],
            "application/vnd.google.colaboratory.intrinsic+json": {
              "type": "string"
            }
          },
          "metadata": {},
          "execution_count": 30
        }
      ]
    },
    {
      "cell_type": "code",
      "source": [
        "df_clusters = gdf.to_pandas().copy()"
      ],
      "metadata": {
        "id": "PdORbf84DwSq"
      },
      "execution_count": 31,
      "outputs": []
    },
    {
      "cell_type": "markdown",
      "source": [
        "#Trustworthiness for UMAP testing"
      ],
      "metadata": {
        "id": "kB3WSOsCpDqx"
      }
    },
    {
      "cell_type": "code",
      "source": [
        "from sklearn.manifold import trustworthiness\n",
        "import umap\n",
        "import cuml.manifold  # Import GPU-accelerated UMAP\n",
        "import numpy as np\n",
        "import matplotlib.pyplot as plt\n",
        "\n",
        "# Initialize the UMAP model with 3 components\n",
        "umap_model = cuml.manifold.UMAP(n_components=3, random_state=42)\n",
        "\n",
        "# Define a list of n_neighbors values to evaluate\n",
        "n_neighbors_values = [25, 50, 90, 120]\n",
        "trust_scores = []\n",
        "\n",
        "# Compute trustworthiness for each n_neighbors value\n",
        "for n_neighbors in n_neighbors_values:\n",
        "    score = trustworthiness(\n",
        "        df_dropHD.to_pandas(),\n",
        "        umap_model.fit_transform(df_dropHD).to_pandas(),\n",
        "        n_neighbors=n_neighbors\n",
        "    )\n",
        "    trust_scores.append(score)\n",
        "    print(f\"Trustworthiness for n_neighbors={n_neighbors}: {score}\")\n",
        "\n",
        "# Plot the results\n",
        "plt.figure(figsize=(10, 6))\n",
        "plt.plot(n_neighbors_values, trust_scores, marker='o', linestyle='-', color='purple')\n",
        "plt.title(\"Trustworthiness vs n_neighbors (UMAP 3D) — Heart Disease Patients (without 'HeartDisease' column)\")\n",
        "plt.xlabel('n_neighbors')\n",
        "plt.ylabel('Trustworthiness')\n",
        "plt.ylim(0.8, 1.01)\n",
        "plt.grid(True, linestyle='--', alpha=0.5)\n",
        "plt.axhline(y=0.90, color='red', linestyle='--', label='Trust = 0.90')\n",
        "plt.legend()\n",
        "plt.tight_layout()\n",
        "plt.show()"
      ],
      "metadata": {
        "colab": {
          "base_uri": "https://localhost:8080/"
        },
        "id": "HmMq1Qb4oqd0",
        "outputId": "a616b37f-e84d-4334-a9fd-a8c85f6c6f01"
      },
      "execution_count": null,
      "outputs": [
        {
          "output_type": "stream",
          "name": "stdout",
          "text": [
            "[2025-04-17 18:21:10.892] [CUML] [info] build_algo set to brute_force_knn because random_state is given\n",
            "Trustworthiness for n_neighbors=25: 0.9819428162010426\n",
            "Trustworthiness for n_neighbors=50: 0.96118722655142\n",
            "Trustworthiness for n_neighbors=90: 0.9361070553630761\n"
          ]
        }
      ]
    },
    {
      "cell_type": "markdown",
      "source": [
        "**econstruction Error (не напрямую в UMAP)**"
      ],
      "metadata": {
        "id": "lZz5AE51yxQ4"
      }
    },
    {
      "cell_type": "markdown",
      "source": [
        "#Explained Variance Ratio with Scree Plot for PCA"
      ],
      "metadata": {
        "id": "XXVVgZNXr-Zw"
      }
    },
    {
      "cell_type": "code",
      "source": [
        "import pandas as pd\n",
        "from sklearn.decomposition import PCA\n",
        "import matplotlib.pyplot as plt\n",
        "import numpy as np\n",
        "\n",
        "# Copy and convert the data to a pandas DataFrame\n",
        "X = df_dropHD.copy()\n",
        "X = X.to_pandas()\n",
        "\n",
        "# Fit PCA on the dataset\n",
        "pca = PCA().fit(X)\n",
        "\n",
        "# Get explained variance and cumulative variance\n",
        "explained_variance = pca.explained_variance_ratio_\n",
        "cum_var = explained_variance.cumsum()\n",
        "\n",
        "# Create a DataFrame to display the results\n",
        "pca_df = pd.DataFrame({\n",
        "    'components': range(1, len(explained_variance) + 1),\n",
        "    'Explained Variance': explained_variance,\n",
        "    'Cumulative Variance': cum_var\n",
        "})\n",
        "\n",
        "# Print the table of explained variance\n",
        "print(pca_df.to_string(index=False))\n",
        "\n",
        "# Plot cumulative explained variance\n",
        "components = pca_df['components']\n",
        "plt.figure(figsize=(10, 6))\n",
        "plt.plot(components, cum_var, marker='o', linestyle='-', color='blue')\n",
        "plt.axhline(y=0.90, color='red', linestyle='--', label='90% variance')\n",
        "plt.axhline(y=0.95, color='green', linestyle='--', label='95% variance')\n",
        "plt.xticks(components)\n",
        "plt.xlabel('Number of PCA Components')\n",
        "plt.ylabel('Cumulative Explained Variance')\n",
        "plt.title(\"Explained Variance vs Number of PCA Components — Heart Disease Patients (without 'HeartDisease' column)\")\n",
        "plt.grid(True, linestyle='--', alpha=0.5)\n",
        "plt.legend()\n",
        "plt.tight_layout()\n",
        "plt.show()\n"
      ],
      "metadata": {
        "id": "MV4bMlf4qqh_"
      },
      "execution_count": null,
      "outputs": []
    },
    {
      "cell_type": "markdown",
      "source": [
        "#Elbow Metod"
      ],
      "metadata": {
        "id": "VE7v9H5Apid6"
      }
    },
    {
      "cell_type": "code",
      "source": [
        "from sklearn.cluster import KMeans\n",
        "from sklearn.preprocessing import StandardScaler\n",
        "import matplotlib.pyplot as plt\n",
        "import numpy as np\n",
        "import pandas as pd\n",
        "from sklearn.decomposition import PCA\n",
        "\n",
        "# 1. Data preparation (remove target variable)\n",
        "X = df_dropHD.copy()\n",
        "X = X.to_pandas()\n",
        "\n",
        "# Optional: Scale features\n",
        "scaler = StandardScaler()\n",
        "X_scaled = scaler.fit_transform(X)\n",
        "\n",
        "# Apply PCA (e.g., keep 14 components)\n",
        "pca = PCA(n_components=14, random_state=42)\n",
        "X_pca = pca.fit_transform(X_scaled)\n",
        "\n",
        "# Elbow Method on PCA-transformed data\n",
        "inertia = []\n",
        "k_range = range(1, 11)\n",
        "\n",
        "for k in k_range:\n",
        "    kmeans = KMeans(n_clusters=k, random_state=42, n_init=10)\n",
        "    kmeans.fit(X_pca)\n",
        "    inertia.append(kmeans.inertia_)\n",
        "\n",
        "# Plot inertia vs. number of clusters in PCA space\n",
        "plt.figure(figsize=(8, 5))\n",
        "plt.plot(k_range, inertia, 'o-', markerfacecolor='red')\n",
        "plt.xlabel('Number of Clusters (k)')\n",
        "plt.ylabel('Inertia (in PCA space)')\n",
        "plt.title('Elbow Method in PCA-Transformed Space')\n",
        "plt.grid(True, linestyle='--', alpha=0.6)\n",
        "plt.xticks(k_range)\n",
        "plt.tight_layout()\n",
        "plt.show()\n",
        "\n",
        "# 2. Elbow Method on original scaled data\n",
        "inertia = []\n",
        "k_range = range(1, 11)\n",
        "\n",
        "for k in k_range:\n",
        "    kmeans = KMeans(n_clusters=k, random_state=42, n_init=10)\n",
        "    kmeans.fit(X_scaled)\n",
        "    inertia.append(kmeans.inertia_)\n",
        "\n",
        "# 3. Plot inertia vs. number of clusters on scaled data\n",
        "plt.figure(figsize=(8, 5))\n",
        "plt.plot(k_range, inertia, 'o-', markerfacecolor='red')\n",
        "plt.xlabel('Number of Clusters (k)')\n",
        "plt.ylabel('Within-Cluster Sum of Squares (Inertia)')\n",
        "plt.title('Elbow Method for Selecting k')\n",
        "plt.grid(True, linestyle='--', alpha=0.6)\n",
        "plt.xticks(k_range)\n",
        "plt.tight_layout()\n",
        "plt.show()\n"
      ],
      "metadata": {
        "id": "iEXB1ZVGpmSE"
      },
      "execution_count": null,
      "outputs": []
    },
    {
      "cell_type": "code",
      "source": [
        "from cuml.manifold import UMAP\n",
        "from sklearn.cluster import KMeans\n",
        "from sklearn.preprocessing import StandardScaler\n",
        "import matplotlib.pyplot as plt\n",
        "import numpy as np\n",
        "import pandas as pd\n",
        "import cudf\n",
        "\n",
        "# 1. Scale the data\n",
        "X = df_dropHD.to_pandas()\n",
        "X_scaled = StandardScaler().fit_transform(X)\n",
        "\n",
        "# 2. Convert to cuDF and apply UMAP on GPU\n",
        "X_cudf = cudf.DataFrame.from_pandas(pd.DataFrame(X_scaled))\n",
        "umap_model = UMAP(n_components=3, n_neighbors=90, min_dist=0.1, random_state=42)\n",
        "X_umap = umap_model.fit_transform(X_cudf).to_pandas()\n",
        "\n",
        "# 3. Elbow Method after UMAP\n",
        "inertia = []\n",
        "k_range = range(1, 10)\n",
        "\n",
        "for k in k_range:\n",
        "    kmeans = KMeans(n_clusters=k, random_state=42, n_init=10)\n",
        "    kmeans.fit(X_umap)\n",
        "    inertia.append(kmeans.inertia_)\n",
        "\n",
        "# 4. Plotting inertia vs. number of clusters\n",
        "plt.figure(figsize=(8, 5))\n",
        "plt.plot(k_range, inertia, 'o-', markerfacecolor='blue')\n",
        "plt.xlabel('Number of Clusters (k)')\n",
        "plt.ylabel('Inertia (after UMAP)')\n",
        "plt.title('Elbow Method After\n"
      ],
      "metadata": {
        "id": "EB9N6T9HFfHB"
      },
      "execution_count": null,
      "outputs": []
    },
    {
      "cell_type": "markdown",
      "source": [
        "#K-Mean+PCA Dimensionality reduction"
      ],
      "metadata": {
        "id": "rToIhL5Cypkl"
      }
    },
    {
      "cell_type": "code",
      "source": [
        "import cudf\n",
        "import cuml\n",
        "from cuml.cluster import KMeans\n",
        "from cuml.decomposition import PCA\n",
        "import matplotlib.pyplot as plt\n",
        "import numpy as np\n",
        "import seaborn as sns\n",
        "\n",
        "# Preserve target column if available\n",
        "if 'HeartDisease' in gdf.columns:\n",
        "    gdf_copy = gdf.copy()\n",
        "    target = cudf.Series(df['HeartDisease'])\n",
        "\n",
        "# Copy feature data (without 'HeartDisease')\n",
        "X_gpu = df_dropHD.copy()\n",
        "\n",
        "# Apply PCA on GPU\n",
        "pca_model = PCA(n_components=13, random_state=42)\n",
        "X_pca = pca_model.fit_transform(X_gpu)\n",
        "\n",
        "# Calculate explained variance\n",
        "explained_variance_ratio = pca_model.explained_variance_ratio_\n",
        "cum_explained_variance = np.cumsum(explained_variance_ratio.to_pandas())\n",
        "print(f\"Explained variance by PCA components: {explained_variance_ratio.to_pandas()}\")\n",
        "print(f\"Cumulative explained variance: {cum_explained_variance}\")\n",
        "\n",
        "# Apply KMeans clustering on PCA-reduced data\n",
        "kmeans_gpu = KMeans(n_clusters=4, n_init=10, random_state=42)\n",
        "kmeans_gpu.fit(X_pca)\n",
        "clusters_KMean_pca = kmeans_gpu.predict(X_pca)\n",
        "\n",
        "# Convert everything to pandas for analysis\n",
        "df_sample = gdf.to_pandas()\n",
        "\n",
        "if 'HeartDisease' in gdf.columns:\n",
        "    df_sample['HeartDisease'] = target.to_pandas()\n",
        "\n",
        "df_sample['cluster_kmeans_pca'] = clusters_KMean_pca.to_pandas()\n",
        "df_clusters['cluster_kmeans_pca'] = clusters_KMean_pca.to_pandas()\n",
        "\n",
        "# Cluster-wise analysis\n",
        "for i in range(4):\n",
        "    cluster_data = df_sample[df_sample['cluster_kmeans_pca'] == i]\n",
        "    print(f\"Cluster {i}:\")\n",
        "    print(f\"Number of observations: {len(cluster_data)}\")\n",
        "    print(\"Mean feature values:\")\n",
        "    print(cluster_data.mean(numeric_only=True))\n",
        "    if 'HeartDisease' in gdf.columns:\n",
        "        heart_disease_rate = cluster_data['HeartDisease'].mean() * 100\n",
        "        print(f\"Heart disease rate: {heart_disease_rate:.2f}%\")\n",
        "    print(\"-\" * 60)\n",
        "\n",
        "# Visualization with centroids\n",
        "plt.figure(figsize=(10, 8))\n",
        "\n",
        "X_pca_pd = X_pca.to_pandas()\n",
        "X_pca_pd.columns = ['PC1', 'PC2'] + [f'PC{i}' for i in range(3, X_pca_pd.shape[1] + 1)]\n",
        "\n",
        "centroids_pca = kmeans_gpu.cluster_centers_.to_pandas()\n",
        "centroids_pca.columns = X_pca_pd.columns\n",
        "\n",
        "palette = sns.color_palette(\"tab10\", len(df_sample['cluster_kmeans_pca'].unique()))\n",
        "\n",
        "for i, cluster in enumerate(df_sample['cluster_kmeans_pca'].unique()):\n",
        "    mask = df_sample['cluster_kmeans_pca'] == cluster\n",
        "    plt.scatter(\n",
        "        X_pca_pd.loc[mask, 'PC1'],\n",
        "        X_pca_pd.loc[mask, 'PC2'],\n",
        "        label=f'Cluster {cluster}',\n",
        "        color=palette[i],\n",
        "        alpha=0.6,\n",
        "        s=30\n",
        "    )\n",
        "\n",
        "plt.scatter(\n",
        "    centroids_pca['PC1'],\n",
        "    centroids_pca['PC2'],\n",
        "    color='black',\n",
        "    marker='X',\n",
        "    s=200,\n",
        "    edgecolor='white',\n",
        "    linewidth=1.5,\n",
        "    label='Centroids'\n",
        ")\n",
        "\n",
        "plt.xlabel('Principal Component 1')\n",
        "plt.ylabel('Principal Component 2')\n",
        "plt.title('KMeans + PCA: Clusters and Their Centroids')\n",
        "plt.legend()\n",
        "plt.grid(True)\n",
        "plt.tight_layout()\n",
        "plt.show()\n"
      ],
      "metadata": {
        "id": "SCkG3DAKy_ql"
      },
      "execution_count": null,
      "outputs": []
    },
    {
      "cell_type": "code",
      "source": [
        "from sklearn.metrics import silhouette_score, calinski_harabasz_score, davies_bouldin_score\n",
        "\n",
        "# Use PCA-transformed data for metric evaluation\n",
        "X_for_metrics = X_pca_pd                   # PCA-reduced feature space\n",
        "labels = clusters_KMean_pca.to_pandas()    # Cluster labels from KMeans\n",
        "\n",
        "# Compute clustering quality metrics\n",
        "sil_score = silhouette_score(X_for_metrics, labels)\n",
        "ch_score = calinski_harabasz_score(X_for_metrics, labels)\n",
        "db_score = davies_bouldin_score(X_for_metrics, labels)\n",
        "\n",
        "# Display the results\n",
        "print(\"\\n Clustering Quality Evaluation for KMeans (after PCA):\")\n",
        "print(f\" Silhouette Score: {sil_score:.4f}\")\n",
        "print(f\" Calinski-Harabasz Score: {ch_score:.2f}\")\n",
        "print(f\" Davies-Bouldin Score: {db_score:.4f}\")\n"
      ],
      "metadata": {
        "id": "jBoBre2WAXyb"
      },
      "execution_count": null,
      "outputs": []
    },
    {
      "cell_type": "markdown",
      "source": [
        " Оценка качества кластеризации KMeans (после PCA):\n",
        "\n",
        "\n",
        "🟢 Silhouette Score: 0.1647\n",
        "\n",
        "🟦 Calinski-Harabasz Score: 1603.32\n",
        "\n",
        "🔴 Davies-Bouldin Score: 1.8375"
      ],
      "metadata": {
        "id": "xJHEr07DaOGm"
      }
    },
    {
      "cell_type": "code",
      "source": [
        "df.head()"
      ],
      "metadata": {
        "id": "Y36Nbsiopjuq"
      },
      "execution_count": null,
      "outputs": []
    },
    {
      "cell_type": "code",
      "source": [
        "# 5. Visualize clustering results in 2D using first two PCA components\n",
        "pca_2d = PCA(n_components=2, random_state=42)\n",
        "X_pca_2d = pca_2d.fit_transform(X_gpu)\n",
        "\n",
        "# Convert to pandas for visualization\n",
        "X_pca_2d_pd = X_pca_2d.to_pandas()\n",
        "clusters_pd = clusters_KMean_pca.to_pandas()\n",
        "\n",
        "# Create side-by-side scatter plots: one colored by clusters, the other by target\n",
        "fig, (ax1, ax2) = plt.subplots(1, 2, figsize=(16, 6))\n",
        "\n",
        "# Plot by cluster labels\n",
        "scatter1 = ax1.scatter(X_pca_2d_pd[0], X_pca_2d_pd[1], c=clusters_pd, cmap='viridis',\n",
        "                       alpha=0.5, s=5, edgecolors='none')\n",
        "ax1.set_title('K-Means Clusters on PCA-Reduced Data')\n",
        "ax1.set_xlabel('Principal Component 1')\n",
        "ax1.set_ylabel('Principal Component 2')\n",
        "legend1 = ax1.legend(*scatter1.legend_elements(), title=\"Clusters\")\n",
        "ax1.add_artist(legend1)\n",
        "\n",
        "# Plot by presence of heart disease\n",
        "if 'HeartDisease' in gdf.columns:\n",
        "    target_pd = target.to_pandas()[X_pca_2d_pd.index]\n",
        "    scatter2 = ax2.scatter(X_pca_2d_pd[0], X_pca_2d_pd[1], c=target_pd, cmap='coolwarm',\n",
        "                           alpha=0.5, s=5, edgecolors='none')\n",
        "    ax2.set_title('Heart Disease Presence on PCA-Reduced Data')\n",
        "    ax2.set_xlabel('Principal Component 1')\n",
        "    ax2.set_ylabel('Principal Component 2')\n",
        "    legend2 = ax2.legend(*scatter2.legend_elements(), title=\"Heart Disease\")\n",
        "    ax2.add_artist(legend2)\n",
        "else:\n",
        "    scatter2 = ax2.scatter(X_pca_2d_pd[0], X_pca_2d_pd[1], cmap='coolwarm',\n",
        "                           alpha=0.5, s=5, edgecolors='none')\n",
        "    ax2.set_title('Condition Presence on PCA-Reduced Data')\n",
        "    ax2.set_xlabel('Principal Component 1')\n",
        "    ax2.set_ylabel('Principal Component 2')\n",
        "\n",
        "plt.tight_layout()\n",
        "plt.savefig('pca_kmeans_clusters.png', dpi=300)\n",
        "plt.show()\n",
        "\n",
        "# 6. Compare cluster profiles\n",
        "cluster_profiles = []\n",
        "for i in range(4):\n",
        "    cluster_data = df_sample[df_sample['cluster_kmeans_pca'] == i]\n",
        "    cluster_profile = cluster_data.mean(numeric_only=True)\n",
        "    cluster_profile['cluster'] = i\n",
        "    cluster_profile['size'] = len(cluster_data)\n",
        "    if 'HeartDisease' in gdf.columns:\n",
        "        cluster_profile['heart_disease_rate'] = cluster_data['HeartDisease'].mean() * 100\n",
        "    cluster_profiles.append(cluster_profile)\n",
        "\n",
        "# Create DataFrame from cluster profiles\n",
        "cluster_profiles_df = pd.DataFrame(cluster_profiles).set_index('cluster')\n",
        "print(\"\\n📊 Cluster Profiles:\")\n",
        "print(cluster_profiles_df)\n",
        "\n",
        "# 7. Analyze distribution of categorical features across clusters\n",
        "categorical_features = [\n",
        "    'Smoking', 'AlcoholDrinking', 'Stroke', 'DiffWalking', 'Sex',\n",
        "    'Race_White', 'Race_Black', 'Race_Asian', 'Race_Hispanic',\n",
        "    'Race_American Indian/Alaskan Native', 'Diabetic', 'PhysicalActivity',\n",
        "    'GenHealth', 'Asthma', 'KidneyDisease', 'SkinCancer',\n",
        "    'AgeCategoryGrouped', 'SleepTimeScore', 'MentalHealthScore',\n",
        "    'PhysicalHealthScore', 'BMIScore'\n",
        "]\n",
        "\n",
        "for feature in categorical_features:\n",
        "    print(f\"\\n Distribution of {feature} across clusters:\")\n",
        "    # Create pivot table for percentage distribution\n",
        "    distribution = pd.crosstab(df_sample['cluster_kmeans_pca'], df_sample[feature], normalize='index') * 100\n",
        "    print(distribution)\n",
        "\n",
        "    # Plot the distribution\n",
        "    plt.figure(figsize=(12, 6))\n",
        "    distribution.plot(kind='bar', stacked=True)\n",
        "    plt.title(f'Distribution of {feature} by Cluster')\n",
        "    plt.xlabel('Cluster')\n",
        "    plt.ylabel('Percentage')\n",
        "    plt.legend(title=feature, bbox_to_anchor=(1.05, 1), loc='upper left')\n",
        "    plt.tight_layout()\n",
        "    plt.savefig(f'distribution_{feature}_by_cluster.png', dpi=300)\n",
        "    plt.show()\n"
      ],
      "metadata": {
        "id": "HQhHm-bVzaZo"
      },
      "execution_count": null,
      "outputs": []
    },
    {
      "cell_type": "markdown",
      "source": [
        "to long more than 5 minute but work well"
      ],
      "metadata": {
        "id": "pZaY0zl2Qahr"
      }
    },
    {
      "cell_type": "markdown",
      "metadata": {
        "id": "vsrZuAvvc_gs"
      },
      "source": [
        "#UMAP визуализация кластеров with K-Mean+UMAP Снижение размерности\n"
      ]
    },
    {
      "cell_type": "code",
      "execution_count": null,
      "metadata": {
        "id": "xOiqF0e1T5Ra"
      },
      "outputs": [],
      "source": [
        "import cudf\n",
        "import cuml\n",
        "from cuml.cluster import KMeans\n",
        "from cuml.manifold import UMAP\n",
        "import matplotlib.pyplot as plt\n",
        "import numpy as np\n",
        "import seaborn as sns\n",
        "\n",
        "# Copy the original data\n",
        "gdf_copy = gdf.copy()\n",
        "X_gpu = df_dropHD.copy()\n",
        "\n",
        "# Extract the target column if available\n",
        "if 'HeartDisease' in gdf.columns:\n",
        "    target = cudf.Series(gdf['HeartDisease'])  # Target variable (cuDF Series)\n",
        "\n",
        "# 1. Dimensionality reduction using UMAP\n",
        "umap_model = UMAP(n_components=3, n_neighbors=50, min_dist=0.2, random_state=42)\n",
        "X_umap = umap_model.fit_transform(X_gpu)\n",
        "\n",
        "# 2. KMeans clustering on the UMAP-reduced space\n",
        "kmeans_gpu = KMeans(n_clusters=6, n_init=10, random_state=42)\n",
        "kmeans_gpu.fit(X_umap)\n",
        "clusters_KMean_umap = kmeans_gpu.predict(X_umap)\n",
        "\n",
        "# 3. Convert data to pandas for analysis\n",
        "df_sample = gdf.to_pandas()\n",
        "\n",
        "if 'HeartDisease' in gdf.columns:\n",
        "    df_sample['HeartDisease'] = target.to_pandas()\n",
        "\n",
        "df_sample['cluster_kmeans_umap'] = clusters_KMean_umap.to_pandas()\n",
        "df_clusters['cluster_kmeans_umap'] = clusters_KMean_umap.to_pandas()\n",
        "\n",
        "# 4. Cluster-wise analysis\n",
        "for i in range(6):  # Changed from range(4) to 6 since n_clusters=6\n",
        "    cluster_data = df_sample[df_sample['cluster_kmeans_umap'] == i]\n",
        "    print(f\"Cluster {i}:\")\n",
        "    print(f\"Number of observations: {len(cluster_data)}\")\n",
        "    print(\"Average feature values:\")\n",
        "    print(cluster_data.mean(numeric_only=True))\n",
        "    if 'HeartDisease' in gdf.columns:\n",
        "        heart_disease_rate = cluster_data['HeartDisease'].mean() * 100\n",
        "        print(f\"Heart disease rate: {heart_disease_rate:.2f}%\")\n",
        "    print(\"-\" * 60)\n",
        "\n",
        "# 5. Append UMAP coordinates\n",
        "umap_df = X_umap.to_pandas()\n",
        "df_sample['UMAP1'] = umap_df[0]\n",
        "df_sample['UMAP2'] = umap_df[1]\n",
        "\n",
        "# Get centroids from trained KMeans model\n",
        "centroids_umap = kmeans_gpu.cluster_centers_.to_pandas()\n",
        "centroids_umap.columns = ['UMAP1', 'UMAP2', 'UMAP3']  # Adjust based on n_components\n",
        "\n",
        "# 6. Visualize clusters with centroids\n",
        "plt.figure(figsize=(12, 8))\n",
        "palette = sns.color_palette(\"tab10\", len(df_sample['cluster_kmeans_umap'].unique()))\n",
        "\n",
        "for i in range(len(centroids_umap)):\n",
        "    cluster_data = df_sample[df_sample['cluster_kmeans_umap'] == i]\n",
        "    plt.scatter(cluster_data['UMAP1'], cluster_data['UMAP2'], label=f'Cluster {i}',\n",
        "                color=palette[i], alpha=0.6, s=30)\n",
        "\n",
        "# Plot centroids\n",
        "plt.scatter(\n",
        "    centroids_umap['UMAP1'],\n",
        "    centroids_umap['UMAP2'],\n",
        "    color='black',\n",
        "    marker='X',\n",
        "    s=200,\n",
        "    edgecolor='white',\n",
        "    linewidth=1.5,\n",
        "    label='Centroids'\n",
        ")\n",
        "\n",
        "plt.title('KMeans Clusters (UMAP-reduced space) with Centroids')\n",
        "plt.xlabel('UMAP 1')\n",
        "plt.ylabel('UMAP 2')\n",
        "plt.legend()\n",
        "plt.grid(True, linestyle='--', alpha=0.5)\n",
        "plt.tight_layout()\n",
        "plt.show()"
      ]
    },
    {
      "cell_type": "code",
      "source": [
        "from sklearn.metrics import silhouette_score, calinski_harabasz_score, davies_bouldin_score\n",
        "\n",
        "# Convert UMAP-transformed data and labels to numpy-compatible format\n",
        "X_umap_np = X_umap.to_pandas().values\n",
        "labels = clusters_KMean_umap.to_pandas().values\n",
        "\n",
        "# Compute clustering evaluation metrics\n",
        "sil_score = silhouette_score(X_umap_np, labels)\n",
        "ch_score = calinski_harabasz_score(X_umap_np, labels)\n",
        "db_score = davies_bouldin_score(X_umap_np, labels)\n",
        "\n",
        "# Display results\n",
        "print(\"\\n Clustering Quality Evaluation for KMeans (after UMAP):\")\n",
        "print(f\"Silhouette Score: {sil_score:.4f}\")\n",
        "print(f\"Calinski-Harabasz Score: {ch_score:.2f}\")\n",
        "print(f\"Davies-Bouldin Score: {db_score:.4f}\")\n"
      ],
      "metadata": {
        "id": "q_eLvAnINW96"
      },
      "execution_count": null,
      "outputs": []
    },
    {
      "cell_type": "code",
      "source": [
        "if 'HeartDisease' in gdf.columns:\n",
        "  #All data without HD (HD is target)**\n",
        "  import seaborn as sns\n",
        "\n",
        "  cluster_hd_rate = df_sample.groupby('cluster_kmeans_umap')['HeartDisease'].mean().reset_index()\n",
        "  cluster_hd_rate['HeartDisease'] *= 100\n",
        "\n",
        "  plt.figure(figsize=(8, 5))\n",
        "  sns.barplot(data=cluster_hd_rate, x='cluster_kmeans_umap', y='HeartDisease')\n",
        "  plt.title('Procent HeartDisease in clasters')\n",
        "  plt.ylabel('Heart Disease (%)')\n",
        "  plt.xlabel('Кластер')\n",
        "  plt.grid(True, linestyle='--', alpha=0.6)\n",
        "  plt.show()\n"
      ],
      "metadata": {
        "id": "eMuv5TGdSMxI"
      },
      "execution_count": null,
      "outputs": []
    },
    {
      "cell_type": "markdown",
      "metadata": {
        "id": "bJuJnzsNZJxg"
      },
      "source": [
        "#Иерархическая кластеризация"
      ]
    },
    {
      "cell_type": "code",
      "source": [
        "#df_clusters.drop(columns=['cluster_kmeans_umap'], inplace=True)"
      ],
      "metadata": {
        "id": "DFH3DCLsjYqe"
      },
      "execution_count": null,
      "outputs": []
    },
    {
      "cell_type": "code",
      "execution_count": null,
      "metadata": {
        "collapsed": true,
        "id": "k8gZurUCk8_X"
      },
      "outputs": [],
      "source": [
        "# Imports\n",
        "import cudf\n",
        "import cuml\n",
        "import pandas as pd\n",
        "import numpy as np\n",
        "from sklearn.preprocessing import StandardScaler\n",
        "from sklearn.cluster import AgglomerativeClustering\n",
        "from scipy.cluster.hierarchy import dendrogram\n",
        "import matplotlib.pyplot as plt\n",
        "from sklearn.decomposition import PCA\n",
        "\n",
        "# Extract target column if present\n",
        "if 'HeartDisease' in gdf.columns:\n",
        "    target = cudf.Series(gdf['HeartDisease'])  # Target variable\n",
        "\n",
        "# Data preparation and sampling\n",
        "gdf_copy = df_dropHD\n",
        "\n",
        "if len(gdf_copy) > 30000:\n",
        "    gdf_sample = gdf_copy.sample(n=30000, random_state=42)\n",
        "else:\n",
        "    gdf_sample = gdf_copy\n",
        "\n",
        "if 'HeartDisease' in gdf.columns:\n",
        "    target_sample = target.loc[gdf_sample.index]\n",
        "\n",
        "# Feature scaling (on CPU)\n",
        "X_scaled = StandardScaler().fit_transform(gdf_sample.to_pandas())\n",
        "\n",
        "# Reduce dimensionality with PCA (e.g., 13 components ≈ 95% variance)\n",
        "pca = PCA(n_components=13, random_state=42)\n",
        "X_pca = pca.fit_transform(X_scaled)\n",
        "\n",
        "# Convert to pandas DataFrame and append target\n",
        "df_sample = gdf_sample.to_pandas().copy()\n",
        "if 'HeartDisease' in gdf.columns:\n",
        "    df_sample['HeartDisease'] = target_sample.to_pandas().values\n",
        "\n",
        "# 🚀 Ward linkage clustering in PCA space\n",
        "print(\"🔍 Method: Ward + PCA\")\n",
        "ward_model = AgglomerativeClustering(\n",
        "    n_clusters=6,\n",
        "    linkage='ward',\n",
        "    compute_distances=True\n",
        ")\n",
        "ward_labels = ward_model.fit_predict(X_pca)\n",
        "\n",
        "# Store clustering results\n",
        "df_sample[\"ward_cluster\"] = ward_labels\n",
        "df_clusters['ward_cluster'] = ward_labels\n",
        "\n",
        "# Distribution of samples per cluster\n",
        "print(\"\\n📊 Cluster distribution (Ward + PCA):\")\n",
        "print(df_sample[\"ward_cluster\"].value_counts().sort_index())\n",
        "\n",
        "# Heart disease rates per cluster\n",
        "if 'HeartDisease' in gdf.columns:\n",
        "    print(\"\\n Heart Disease Rate per Cluster:\")\n",
        "    for i in range(4):  # Use range(6) if you want all clusters\n",
        "        mask = df_sample[\"ward_cluster\"] == i\n",
        "        rate = df_sample.loc[mask, \"HeartDisease\"].mean() * 100\n",
        "        print(f\"Cluster {i}: {rate:.2f}% ({mask.sum()} samples)\")\n",
        "\n",
        "# 📈 Dendrogram for Ward clustering\n",
        "def plot_dendrogram(model, **kwargs):\n",
        "    counts = np.zeros(model.children_.shape[0])\n",
        "    n_samples = len(model.labels_)\n",
        "    for i, merge in enumerate(model.children_):\n",
        "        current_count = 0\n",
        "        for child_idx in merge:\n",
        "            if child_idx < n_samples:\n",
        "                current_count += 1\n",
        "            else:\n",
        "                current_count += counts[child_idx - n_samples]\n",
        "        counts[i] = current_count\n",
        "\n",
        "    linkage_matrix = np.column_stack([model.children_, model.distances_, counts]).astype(float)\n",
        "\n",
        "    plt.figure(figsize=(12, 8))\n",
        "    dendrogram(linkage_matrix, **kwargs)\n",
        "    plt.title('📊 Dendrogram (Ward + PCA)', fontsize=16)\n",
        "    plt.xlabel('Sample Index or Cluster')\n",
        "    plt.ylabel('Distance')\n",
        "    plt.grid(True, linestyle='--', alpha=0.5)\n",
        "    plt.tight_layout()\n",
        "    plt.show()\n",
        "\n",
        "# Plot the dendrogram\n",
        "plot_dendrogram(ward_model, truncate_mode='level', p=5)"
      ]
    },
    {
      "cell_type": "code",
      "source": [
        "from sklearn.metrics import silhouette_score, calinski_harabasz_score, davies_bouldin_score\n",
        "\n",
        "# Use PCA-transformed data and cluster labels\n",
        "X_for_metrics = X_pca           # PCA-reduced feature space\n",
        "labels = ward_labels            # Cluster labels from Ward clustering\n",
        "\n",
        "# Compute clustering quality metrics\n",
        "sil_score = silhouette_score(X_for_metrics, labels)\n",
        "ch_score = calinski_harabasz_score(X_for_metrics, labels)\n",
        "db_score = davies_bouldin_score(X_for_metrics, labels)\n",
        "\n",
        "# Display the results\n",
        "print(\"\\nClustering Quality Evaluation for Ward (after PCA):\")\n",
        "print(f\"Silhouette Score: {sil_score:.4f}\")\n",
        "print(f\"Calinski-Harabasz Score: {ch_score:.2f}\")\n",
        "print(f\"Davies-Bouldin Score: {db_score:.4f}\")\n"
      ],
      "metadata": {
        "id": "KYt4Lh1kvJ15"
      },
      "execution_count": null,
      "outputs": []
    },
    {
      "cell_type": "code",
      "source": [
        "from scipy.cluster.hierarchy import linkage, fcluster\n",
        "\n",
        "# Perform hierarchical clustering (Ward linkage) on PCA-reduced data\n",
        "Z = linkage(X_pca, method='ward')\n",
        "\n",
        "# Cut the dendrogram by distance threshold (e.g., t=50)\n",
        "labels_auto = fcluster(Z, t=50, criterion='distance')\n",
        "\n",
        "# Alternatively, cut by the desired number of clusters:\n",
        "# labels_auto = fcluster(Z, t=5, criterion='maxclust')\n",
        "\n",
        "# Print the resulting cluster labels\n",
        "print(\"Clusters (fcluster):\", np.unique(labels_auto))\n"
      ],
      "metadata": {
        "id": "mtv3zclLjyMV"
      },
      "execution_count": null,
      "outputs": []
    },
    {
      "cell_type": "code",
      "source": [
        "import matplotlib.pyplot as plt\n",
        "from sklearn.manifold import TSNE  # Import t-SNE\n",
        "\n",
        "# Apply t-SNE on PCA-reduced data\n",
        "tsne = TSNE(n_components=2, random_state=42)\n",
        "X_tsne = tsne.fit_transform(X_pca)\n",
        "\n",
        "# Add t-SNE components to the DataFrame\n",
        "df_sample['TSNE1'] = X_tsne[:, 0]\n",
        "df_sample['TSNE2'] = X_tsne[:, 1]\n",
        "\n",
        "# Scatter plot of clusters in t-SNE space\n",
        "plt.figure(figsize=(12, 8))\n",
        "plt.scatter(\n",
        "    df_sample['TSNE1'],\n",
        "    df_sample['TSNE2'],\n",
        "    c=df_sample['ward_cluster'],\n",
        "    cmap='tab10',\n",
        "    s=10,\n",
        "    alpha=0.7\n",
        ")\n",
        "plt.colorbar(label='Ward Cluster')\n",
        "plt.title(\"t-SNE Visualization of Clusters (Ward + fcluster)\")\n",
        "plt.xlabel(\"TSNE-1\")\n",
        "plt.ylabel(\"TSNE-2\")\n",
        "plt.grid(True, linestyle='--', alpha=0.5)\n",
        "plt.tight_layout()\n",
        "plt.show()\n"
      ],
      "metadata": {
        "id": "Yr4sJMHLkI4b"
      },
      "execution_count": null,
      "outputs": []
    },
    {
      "cell_type": "markdown",
      "source": [
        "\n",
        "📈 Оценка качества кластеризации Ward (после UMAP):\n",
        "🟢 Silhouette Score: -0.0506\n",
        "🟦 Calinski-Harabasz Score: 16.77\n",
        "🔴 Davies-Bouldin Score: 15.9426"
      ],
      "metadata": {
        "id": "OqyIAuaHJ-KV"
      }
    },
    {
      "cell_type": "markdown",
      "source": [
        "Silhouette Score\tНасколько хорошо объекты соответствуют своему кластеру (больше — лучше, макс = 1)\n",
        "\n",
        "Calinski-Harabasz Score\tОтношение межкластерной дисперсии к внутрикластерной (больше — лучше)\n",
        "\n",
        "Davies-Bouldin Score\tМера средних расстояний между кластерами (меньше — лучше)"
      ],
      "metadata": {
        "id": "UO41Zrcsl7gx"
      }
    },
    {
      "cell_type": "code",
      "execution_count": null,
      "metadata": {
        "collapsed": true,
        "id": "-KcMgYfseqhZ"
      },
      "outputs": [],
      "source": [
        "# Detailed analysis of Ward clusters\n",
        "print(\"Detailed analysis of Ward clustering:\")\n",
        "\n",
        "for i in range(4):  # Change to range(6) if there are 6 clusters\n",
        "    cluster_data = df_clusters[df_clusters['ward_cluster'] == i]\n",
        "    print(f\"\\nCluster {i} ({len(cluster_data)} observations):\")\n",
        "\n",
        "    # Uncomment the line below to include heart disease analysis (if available)\n",
        "    # print(f\"Percentage of patients with heart disease: {cluster_data['HeartDisease'].mean()*100:.2f}%\")\n",
        "\n",
        "    # Analysis of key features\n",
        "    print(\"Mean values of key features:\")\n",
        "    print(cluster_data[[\n",
        "        'Smoking', 'AlcoholDrinking', 'Stroke', 'DiffWalking', 'Sex',\n",
        "        'Race_White', 'Race_Black', 'Race_Asian', 'Race_Hispanic',\n",
        "        'Race_American Indian/Alaskan Native', 'Diabetic', 'PhysicalActivity',\n",
        "        'GenHealth', 'Asthma', 'KidneyDisease', 'SkinCancer',\n",
        "        'AgeCategoryGrouped', 'SleepTimeScore', 'MentalHealthScore',\n",
        "        'PhysicalHealthScore', 'BMIScore'\n",
        "    ]].mean())\n",
        "\n",
        "    # Analysis of binary/categorical features\n",
        "    binary_features = [\n",
        "        'Smoking', 'AlcoholDrinking', 'Stroke', 'DiffWalking', 'Sex',\n",
        "        'PhysicalActivity', 'Asthma', 'KidneyDisease', 'SkinCancer'\n",
        "    ]\n",
        "\n",
        "    print(\"Percentage of binary/categorical features:\")\n",
        "    for feature in binary_features:\n",
        "        if feature in df_sample.columns:\n",
        "            print(f\"{feature}: {cluster_data[feature].mean() * 100:.2f}%\")\n",
        "\n",
        "    print(\"-\" * 50)\n"
      ]
    },
    {
      "cell_type": "markdown",
      "metadata": {
        "id": "POA0hrUnnSQF"
      },
      "source": [
        "#DBSCAN+UMAP (кластеризация на основе плотности)."
      ]
    },
    {
      "cell_type": "code",
      "source": [
        "import cudf\n",
        "import cuml\n",
        "from cuml.manifold import UMAP\n",
        "from cuml.cluster import DBSCAN\n",
        "import matplotlib.pyplot as plt\n",
        "import numpy as np\n",
        "from mpl_toolkits.mplot3d import Axes3D\n",
        "\n",
        "# Extract target variable if available\n",
        "if 'HeartDisease' in gdf.columns:\n",
        "    target = cudf.Series(gdf['HeartDisease'])\n",
        "\n",
        "# 1. Remove target variable from features\n",
        "gdf_features = df_dropHD.copy()\n",
        "X_gpu = gdf_features\n",
        "\n",
        "# 2. Dimensionality reduction using UMAP on GPU\n",
        "umap_gpu = UMAP(n_components=3, n_neighbors=50, min_dist=0.1, metric='euclidean', random_state=42)\n",
        "X_umap_gpu = umap_gpu.fit_transform(X_gpu)\n",
        "\n",
        "# 3. DBSCAN clustering on UMAP-reduced data\n",
        "dbscan_gpu = DBSCAN(eps=1, min_samples=30)\n",
        "dbscan_labels = dbscan_gpu.fit_predict(X_umap_gpu)\n",
        "\n",
        "# 4. Convert everything to pandas\n",
        "if 'HeartDisease' in gdf.columns:\n",
        "    df_sample['HeartDisease'] = target.to_pandas()\n",
        "\n",
        "df_sample['dbscan_cluster'] = dbscan_labels.to_pandas()\n",
        "df_clusters['dbscan_cluster'] = dbscan_labels.to_pandas()\n",
        "\n",
        "# 5. Cluster analysis\n",
        "n_clusters = len(set(dbscan_labels.to_pandas())) - (1 if -1 in dbscan_labels.to_pandas() else 0)\n",
        "n_noise = (dbscan_labels.to_pandas() == -1).sum()\n",
        "\n",
        "print(f\"DBSCAN identified {n_clusters} clusters and {n_noise} noise points\\n\")\n",
        "\n",
        "if 'HeartDisease' in gdf.columns:\n",
        "    print(\"📊 Heart Disease Rate by DBSCAN Cluster:\")\n",
        "\n",
        "    for i in sorted(set(dbscan_labels.to_pandas())):\n",
        "        mask = df_sample['dbscan_cluster'] == i\n",
        "        cluster_size = mask.sum()\n",
        "        if cluster_size == 0:\n",
        "            continue\n",
        "        rate = df_sample.loc[mask, 'HeartDisease'].mean() * 100\n",
        "        label = f\"Cluster {i}\" if i != -1 else \"Noise (-1)\"\n",
        "        print(f\"{label}: {rate:.2f}% ({cluster_size} samples)\")\n",
        "\n",
        "# 6. Visualization in 3D\n",
        "fig = plt.figure(figsize=(10, 7))\n",
        "ax = fig.add_subplot(111, projection='3d')\n",
        "\n",
        "scatter = ax.scatter(\n",
        "    X_umap_gpu.to_pandas().iloc[:, 0],\n",
        "    X_umap_gpu.to_pandas().iloc[:, 1],\n",
        "    X_umap_gpu.to_pandas().iloc[:, 2],\n",
        "    c=dbscan_labels.to_pandas(),\n",
        "    cmap='tab10',\n",
        "    s=10,\n",
        "    alpha=0.6\n",
        ")\n",
        "\n",
        "plt.title(\"DBSCAN Clusters with UMAP Dimensionality Reduction\")\n",
        "plt.xlabel(\"UMAP-1\")\n",
        "plt.ylabel(\"UMAP-2\")\n",
        "ax.set_zlabel(\"UMAP-3\")\n",
        "plt.grid(True, linestyle='--', alpha=0.5)\n",
        "plt.colorbar(scatter, label=\"DBSCAN Cluster\")\n",
        "plt.show()\n"
      ],
      "metadata": {
        "id": "PPrWCq4Fz_K1"
      },
      "execution_count": null,
      "outputs": []
    },
    {
      "cell_type": "code",
      "source": [
        "from sklearn.neighbors import NearestNeighbors\n",
        "import numpy as np\n",
        "import matplotlib.pyplot as plt\n",
        "\n",
        "# Convert the cuDF DataFrame to pandas before fitting\n",
        "X_umap_pd = X_umap_gpu.to_pandas()\n",
        "\n",
        "# Initialize Nearest Neighbors with k=30\n",
        "neighbors = NearestNeighbors(n_neighbors=30)\n",
        "neighbors_fit = neighbors.fit(X_umap_pd)\n",
        "distances, indices = neighbors_fit.kneighbors(X_umap_pd)\n",
        "\n",
        "# Sort distances to the 30th nearest neighbor\n",
        "distances = np.sort(distances[:, -1])\n",
        "\n",
        "# Plot k-distance graph\n",
        "plt.figure(figsize=(8, 4))\n",
        "plt.plot(distances)\n",
        "plt.title(\"k-Distance Graph (for Selecting eps)\")\n",
        "plt.xlabel(\"Sample Index\")\n",
        "plt.ylabel(\"Distance to 30th Nearest Neighbor\")\n",
        "plt.grid(True)\n",
        "plt.show()\n"
      ],
      "metadata": {
        "id": "xRNs87V7dNe5"
      },
      "execution_count": null,
      "outputs": []
    },
    {
      "cell_type": "code",
      "source": [
        "from sklearn.metrics import silhouette_score, calinski_harabasz_score, davies_bouldin_score\n",
        "\n",
        "# Convert UMAP-transformed data and cluster labels to numpy arrays\n",
        "X_umap_np = X_umap_gpu.to_pandas().values\n",
        "labels = dbscan_labels.to_pandas().values\n",
        "\n",
        "# Compute clustering evaluation metrics\n",
        "sil_score = silhouette_score(X_umap_np, labels)\n",
        "ch_score = calinski_harabasz_score(X_umap_np, labels)\n",
        "db_score = davies_bouldin_score(X_umap_np, labels)\n",
        "\n",
        "# Display results\n",
        "print(\"\\n Clustering Quality Evaluation for DBSCAN (after UMAP):\")\n",
        "print(f\"Silhouette Score: {sil_score:.4f}\")\n",
        "print(f\"Calinski-Harabasz Score: {ch_score:.2f}\")\n",
        "print(f\"Davies-Bouldin Score: {db_score:.4f}\")\n"
      ],
      "metadata": {
        "id": "QtZqRztd-l07"
      },
      "execution_count": null,
      "outputs": []
    },
    {
      "cell_type": "code",
      "source": [
        "from scipy.cluster.hierarchy import linkage, dendrogram\n",
        "from sklearn.metrics import pairwise_distances\n",
        "import matplotlib.pyplot as plt\n",
        "\n",
        "# Assume X_umap_gpu and dbscan_labels are available as pandas objects\n",
        "X_umap_pd = X_umap_gpu.to_pandas()\n",
        "labels_pd = dbscan_labels.to_pandas()\n",
        "\n",
        "# Filter out noise points (cluster -1)\n",
        "mask = labels_pd != -1\n",
        "X_clusters = X_umap_pd[mask]\n",
        "labels_clusters = labels_pd[mask]\n",
        "\n",
        "# Compute centroids for each cluster\n",
        "cluster_ids = sorted(set(labels_clusters))\n",
        "centroids = []\n",
        "\n",
        "for cluster_id in cluster_ids:\n",
        "    cluster_points = X_clusters[labels_clusters == cluster_id]\n",
        "    centroid = cluster_points.mean(axis=0)\n",
        "    centroids.append(centroid)\n",
        "\n",
        "centroids = np.vstack(centroids)\n",
        "\n",
        "# Compute pairwise distances and build linkage matrix\n",
        "linked = linkage(centroids, method='ward')\n",
        "\n",
        "# Plot dendrogram\n",
        "plt.figure(figsize=(12, 6))\n",
        "dendrogram(linked, labels=[f'C{i}' for i in cluster_ids])\n",
        "plt.title(\"Dendrogram of DBSCAN Clusters (Centroids in UMAP Space)\")\n",
        "plt.xlabel(\"Cluster\")\n",
        "plt.ylabel(\"Distance\")\n",
        "plt.grid(True, linestyle='--', alpha=0.5)\n",
        "plt.tight_layout()\n",
        "plt.show()\n"
      ],
      "metadata": {
        "id": "P7MOIeRO-N3O"
      },
      "execution_count": null,
      "outputs": []
    },
    {
      "cell_type": "code",
      "source": [
        "!pip install kneed"
      ],
      "metadata": {
        "id": "3jre1pyyAM-c"
      },
      "execution_count": null,
      "outputs": []
    },
    {
      "cell_type": "code",
      "source": [
        "from kneed import KneeLocator\n",
        "\n",
        "distances = linked[::-1, 2]\n",
        "kneedle = KneeLocator(range(1, len(distances)+1), distances, curve='convex', direction='decreasing')\n",
        "optimal_k = kneedle.knee\n",
        "print(f\"Optimal namber of meta-clasters: {optimal_k}\")\n"
      ],
      "metadata": {
        "id": "CtkSn9BFAFmv"
      },
      "execution_count": null,
      "outputs": []
    },
    {
      "cell_type": "code",
      "source": [
        "from scipy.cluster.hierarchy import linkage, fcluster\n",
        "from sklearn.metrics import silhouette_score, calinski_harabasz_score, davies_bouldin_score\n",
        "import pandas as pd\n",
        "import numpy as np\n",
        "import matplotlib.pyplot as plt\n",
        "\n",
        "# Convert UMAP-reduced data and DBSCAN labels to pandas\n",
        "X_umap_metha = X_umap_gpu.to_pandas()\n",
        "labels = dbscan_labels.to_pandas()\n",
        "\n",
        "# Remove noise points and compute cluster centroids\n",
        "mask = labels != -1\n",
        "X_clusters = X_umap_metha[mask]\n",
        "labels_clusters = labels[mask]\n",
        "\n",
        "cluster_ids = sorted(set(labels_clusters))\n",
        "centroids = []\n",
        "\n",
        "for cluster_id in cluster_ids:\n",
        "    cluster_points = X_clusters[labels_clusters == cluster_id]\n",
        "    centroid = cluster_points.mean(axis=0)\n",
        "    centroids.append(centroid)\n",
        "\n",
        "centroids = np.vstack(centroids)\n",
        "\n",
        "# Perform hierarchical clustering on the centroids\n",
        "linked = linkage(centroids, method='ward')\n",
        "\n",
        "# Define number of meta-clusters\n",
        "N_META = 11\n",
        "meta_labels = fcluster(linked, t=N_META, criterion='maxclust') - 1\n",
        "\n",
        "# Create mapping: DBSCAN cluster ID → meta-cluster ID\n",
        "meta_map = dict(zip(cluster_ids, meta_labels))\n",
        "\n",
        "# Map DBSCAN clusters to meta-clusters in the DataFrame\n",
        "df_sample['dbscan_meta_cluster'] = df_sample['dbscan_cluster'].map(meta_map)\n",
        "df_clusters['dbscan_meta_cluster'] = df_sample['dbscan_meta_cluster']\n",
        "\n",
        "# Evaluate meta-clustering quality\n",
        "X_filtered = X_umap_metha[labels != -1].values\n",
        "meta_cluster_labels = df_sample.loc[labels != -1, 'dbscan_meta_cluster'].values\n",
        "\n",
        "sil_score = silhouette_score(X_filtered, meta_cluster_labels)\n",
        "ch_score = calinski_harabasz_score(X_filtered, meta_cluster_labels)\n",
        "db_score = davies_bouldin_score(X_filtered, meta_cluster_labels)\n",
        "\n",
        "meta_metrics = {\n",
        "    \"Silhouette Score\": sil_score,\n",
        "    \"Calinski-Harabasz Score\": ch_score,\n",
        "    \"Davies-Bouldin Score\": db_score\n",
        "}\n",
        "\n",
        "# Display metrics as a table\n",
        "pd.DataFrame([meta_metrics])\n"
      ],
      "metadata": {
        "id": "8am_uuZd9TLq"
      },
      "execution_count": null,
      "outputs": []
    },
    {
      "cell_type": "code",
      "source": [
        "\n",
        "# 3D vizualisasion\n",
        "fig = plt.figure(figsize=(10, 7))\n",
        "ax = fig.add_subplot(111, projection='3d')\n",
        "\n",
        "# scatter = ax.scatter(X_mock[:, 0], X_mock[:, 1], X_mock[:, 2],  # This was the original line causing the error\n",
        "scatter = ax.scatter(X_filtered[:, 0], X_filtered[:, 1], X_filtered[:, 2], # Changed X_mock to X_filtered\n",
        "                     c=meta_cluster_labels, cmap='tab10', s=10, alpha=0.6)\n",
        "\n",
        "ax.set_title(\"DBSCAN Meta-Clusters from around 70 clusters → 11 meta-group\")\n",
        "ax.set_xlabel(\"UMAP-1\")\n",
        "ax.set_ylabel(\"UMAP-2\")\n",
        "ax.set_zlabel(\"UMAP-3\")\n",
        "\n",
        "plt.colorbar(scatter, label=\"Meta-Cluster\")\n",
        "plt.grid(True, linestyle='--', alpha=0.5)\n",
        "plt.show()"
      ],
      "metadata": {
        "id": "cfKEo0VfmjRn"
      },
      "execution_count": null,
      "outputs": []
    },
    {
      "cell_type": "code",
      "source": [
        "import pandas as pd\n",
        "import cudf\n",
        "from cuml.manifold import UMAP\n",
        "import matplotlib.pyplot as plt\n",
        "\n",
        "# Ensure clustering results are available\n",
        "assert 'df_sample' in locals() and 'dbscan_cluster' in df_sample.columns, \\\n",
        "    \"Data not loaded or 'dbscan_cluster' column missing.\"\n",
        "\n",
        "# Separate cluster 0 from the rest\n",
        "cluster_0 = df_sample[df_sample['dbscan_cluster'] == 0]\n",
        "others = df_sample[df_sample['dbscan_cluster'] != 0]\n",
        "\n",
        "# Select normalized features for UMAP embedding\n",
        "features = [\n",
        "    'Smoking', 'AlcoholDrinking', 'Stroke',\n",
        "    'DiffWalking', 'Sex', 'Race_White', 'Race_Black', 'Race_Asian',\n",
        "    'Race_Hispanic', 'Race_American Indian/Alaskan Native', 'Diabetic',\n",
        "    'PhysicalActivity', 'GenHealth', 'Asthma',\n",
        "    'KidneyDisease', 'SkinCancer', 'AgeCategoryGrouped',\n",
        "    'SleepTimeScore', 'MentalHealthScore',\n",
        "    'PhysicalHealthScore', 'BMIScore'\n",
        "]\n",
        "\n",
        "X = df_sample[features]\n",
        "\n",
        "# Apply UMAP for 2D embedding\n",
        "umap = UMAP(n_components=2, n_neighbors=15, min_dist=0.8, random_state=42)\n",
        "embedding = umap.fit_transform(gdf).to_pandas()  # gdf must contain the same features as df_sample\n",
        "embedding.columns = ['UMAP1', 'UMAP2']\n",
        "\n",
        "# Add UMAP results to the visualization DataFrame\n",
        "df_vis = df_sample.copy()\n",
        "df_vis[['UMAP1', 'UMAP2']] = embedding\n",
        "\n",
        "# Highlight cluster 0 in red, others in gray\n",
        "df_vis['color'] = df_vis['dbscan_cluster'].apply(lambda x: 'red' if x == 0 else 'lightgray')\n",
        "\n",
        "# Visualization\n",
        "plt.figure(figsize=(12, 8))\n",
        "plt.scatter(df_vis['UMAP1'], df_vis['UMAP2'], c=df_vis['color'], alpha=0.6, s=10)\n",
        "plt.title('UMAP Projection Highlighting Cluster 0')\n",
        "plt.xlabel('UMAP 1')\n",
        "plt.ylabel('UMAP 2')\n",
        "plt.grid(True, linestyle='--', alpha=0.5)\n",
        "plt.show()\n"
      ],
      "metadata": {
        "collapsed": true,
        "id": "YHmjboR_VGxl"
      },
      "execution_count": null,
      "outputs": []
    },
    {
      "cell_type": "code",
      "source": [
        "\n",
        "!pip install ace_tools\n"
      ],
      "metadata": {
        "id": "A2y-7eZeXuPt"
      },
      "execution_count": null,
      "outputs": []
    },
    {
      "cell_type": "code",
      "source": [
        "import pandas as pd\n",
        "\n",
        "#List of categorical and binary features\n",
        "categorical_cols = [\n",
        "    'HeartDisease', 'Smoking', 'AlcoholDrinking', 'Stroke',\n",
        "    'DiffWalking', 'Sex', 'Race', 'Diabetic',\n",
        "    'PhysicalActivity', 'GenHealth', 'Asthma',\n",
        "    'KidneyDisease', 'SkinCancer', 'AgeCategoryGrouped',\n",
        "    'SleepTimeScore', 'MentalHealthScore',\n",
        "    'PhysicalHealthScore', 'BMIScore'\n",
        "]\n",
        "\n",
        "# Top differing features (by absolute mean difference)\n",
        "diffs = {}\n",
        "for col in df.select_dtypes(include='number').columns:\n",
        "    if col not in ['HeartDisease', 'dbscan_cluster']:\n",
        "        cluster_0_mean = cluster_0[col].mean()\n",
        "        others_mean = others[col].mean()\n",
        "        diff = abs(cluster_0_mean - others_mean)\n",
        "        diffs[col] = diff\n",
        "\n",
        "top_diff_features = sorted(diffs.items(), key=lambda x: x[1], reverse=True)[:10]\n",
        "top_diff_df = pd.DataFrame(top_diff_features, columns=[\"Feature\", \"AbsDifference\"])\n",
        "\n",
        "print(\"\\n Top 10 Features Differing Most (Cluster 0 vs Others):\")\n",
        "display(top_diff_df)\n",
        "\n",
        "# Cluster 0 profile across categorical features\n",
        "profile = {}\n",
        "for col in categorical_cols:\n",
        "    if col in cluster_0.columns:\n",
        "        profile[col] = cluster_0[col].value_counts(normalize=True).round(3)\n",
        "\n",
        "profile_df = pd.DataFrame(profile).fillna(0).T\n",
        "\n",
        "print(\"\\nCluster 0 Profile (Categorical Features):\")\n",
        "display(profile_df)\n",
        "\n",
        "# Indices of observations in Cluster 0\n",
        "cluster_0_indices = cluster_0.index.to_list()\n",
        "index_df = pd.DataFrame(cluster_0_indices, columns=[\"Index in Original Dataset\"])\n",
        "\n",
        "print(\"\\n Indices of All Points in Cluster 0:\")\n",
        "display(index_df)\n"
      ],
      "metadata": {
        "id": "noo1evMZXdK0"
      },
      "execution_count": null,
      "outputs": []
    },
    {
      "cell_type": "markdown",
      "source": [
        "#GMM+UMAP+CENTROID+Find optimal components(BIC) for gmm number of clusters  \n"
      ],
      "metadata": {
        "id": "uMiYdlLksxyB"
      }
    },
    {
      "cell_type": "code",
      "source": [
        "#df_clusters.drop(columns=['gmm_cluster_centroid'], inplace=True)"
      ],
      "metadata": {
        "id": "fklgArDk9DBo"
      },
      "execution_count": null,
      "outputs": []
    },
    {
      "cell_type": "code",
      "source": [
        "#df_clusters = df_clusters.join(df[['HeartDisease']], how='right')"
      ],
      "metadata": {
        "id": "wXA9Wn799I4z"
      },
      "execution_count": null,
      "outputs": []
    },
    {
      "cell_type": "code",
      "source": [
        "# Combined script: Optimal GMM clustering with UMAP + centroid analysis + visualization\n",
        "\n",
        "import cudf\n",
        "import cuml\n",
        "from cuml.manifold import UMAP\n",
        "from sklearn.mixture import GaussianMixture\n",
        "from sklearn.preprocessing import StandardScaler\n",
        "import matplotlib.pyplot as plt\n",
        "import pandas as pd\n",
        "import numpy as np\n",
        "import seaborn as sns\n",
        "from scipy.spatial.distance import pdist, squareform\n",
        "\n",
        "# Load and preprocess data\n",
        "if 'HeartDisease' in gdf.columns:\n",
        "    target = gdf['HeartDisease']\n",
        "\n",
        "gdf_copy = df_dropHD\n",
        "if len(gdf_copy) > 35000:\n",
        "    gdf_sample = gdf_copy.sample(n=35000, random_state=42)\n",
        "else:\n",
        "    gdf_sample = gdf_copy\n",
        "\n",
        "if 'HeartDisease' in gdf.columns:\n",
        "    target_sample = target.loc[gdf_sample.index]\n",
        "\n",
        "# Standardize features on CPU\n",
        "X_scaled = StandardScaler().fit_transform(gdf_sample.to_pandas())\n",
        "X_cudf = cudf.DataFrame.from_pandas(pd.DataFrame(X_scaled))\n",
        "\n",
        "# UMAP dimensionality reduction on GPU\n",
        "umap_model = UMAP(n_components=15, n_neighbors=40, min_dist=0.2, random_state=42)\n",
        "X_umap_gmm = umap_model.fit_transform(X_cudf).to_pandas()\n",
        "\n",
        "# Function to find elbow point for optimal GMM components\n",
        "def find_elbow(x, y):\n",
        "    x_norm = (x - np.min(x)) / (np.max(x) - np.min(x))\n",
        "    y_norm = (y - np.min(y)) / (np.max(y) - np.min(y))\n",
        "    p1 = np.array([x_norm[0], y_norm[0]])\n",
        "    p2 = np.array([x_norm[-1], y_norm[-1]])\n",
        "    distances = [np.abs(np.cross(p2-p1, p1 - np.array([x, y]))) / np.linalg.norm(p2 - p1)\n",
        "                 for x, y in zip(x_norm, y_norm)]\n",
        "    return x[np.argmax(distances)]\n",
        "\n",
        "# Fit GMM models and find optimal number of components\n",
        "def find_optimal_components(X, n_components_range=range(2, 20), random_state=42):\n",
        "    bic = []\n",
        "    gmm_models = {}\n",
        "    for n in n_components_range:\n",
        "        try:\n",
        "            gmm = GaussianMixture(n_components=n, covariance_type='full', random_state=random_state)\n",
        "            gmm.fit(X)\n",
        "            bic_score = gmm.bic(X)\n",
        "            bic.append(bic_score)\n",
        "            gmm_models[n] = gmm\n",
        "            print(f\"GMM for {n} components: BIC = {bic_score:.2f}\")\n",
        "        except Exception as e:\n",
        "            bic.append(np.inf)\n",
        "            print(f\"Error for n_components={n}: {e}\")\n",
        "\n",
        "    optimal_n = find_elbow(np.array(list(n_components_range)), np.array(bic))\n",
        "    print(f\"Optimal number of components (elbow method): {optimal_n}\")\n",
        "\n",
        "    # Plot BIC curve\n",
        "    plt.figure(figsize=(10, 6))\n",
        "    plt.plot(n_components_range, bic, 'o-')\n",
        "    plt.axvline(x=optimal_n, color='r', linestyle='--', label=f'Optimal n = {optimal_n}')\n",
        "    plt.xlabel('Number of GMM components')\n",
        "    plt.ylabel('BIC')\n",
        "    plt.title('BIC across GMM components')\n",
        "    plt.grid(True)\n",
        "    plt.legend()\n",
        "    plt.show()\n",
        "\n",
        "    # Elbow visualization\n",
        "    plt.figure(figsize=(10, 6))\n",
        "    x_norm = (np.array(n_components_range) - np.min(n_components_range)) / (np.max(n_components_range) - np.min(n_components_range))\n",
        "    y_norm = (np.array(bic) - np.min(bic)) / (np.max(bic) - np.min(bic))\n",
        "    plt.plot(n_components_range, y_norm, 'o-', label='Normalized BIC')\n",
        "    p1, p2 = np.array([x_norm[0], y_norm[0]]), np.array([x_norm[-1], y_norm[-1]])\n",
        "    distances = [np.abs(np.cross(p2-p1, p1 - np.array([x, y]))) / np.linalg.norm(p2 - p1)\n",
        "                 for x, y in zip(x_norm, y_norm)]\n",
        "    elbow_idx = np.argmax(distances)\n",
        "    plt.scatter([n_components_range[elbow_idx]], [y_norm[elbow_idx]],\n",
        "                c='green', s=100, label=f'Elbow at n = {n_components_range[elbow_idx]}')\n",
        "    plt.plot([n_components_range[0], n_components_range[-1]],\n",
        "             [y_norm[0], y_norm[-1]], 'r--', label='Base line')\n",
        "    plt.title('Elbow Method Visualization')\n",
        "    plt.xlabel('Components')\n",
        "    plt.ylabel('Normalized BIC')\n",
        "    plt.grid(True)\n",
        "    plt.legend()\n",
        "    plt.show()\n",
        "\n",
        "    return n_components_range[elbow_idx], gmm_models[n_components_range[elbow_idx]], bic, gmm_models\n",
        "\n",
        "# Determine best GMM model\n",
        "optimal_n, best_gmm, bic_values, all_models = find_optimal_components(X_umap_gmm)\n",
        "gmm_labels = best_gmm.predict(X_umap_gmm)\n",
        "\n",
        "# Compute GMM centroids and distances\n",
        "centroids = np.array([X_umap_gmm[gmm_labels == i].mean(axis=0) for i in range(optimal_n)])\n",
        "distances = squareform(pdist(centroids))\n",
        "df_centroids = pd.DataFrame(distances, columns=[f\"C{i}\" for i in range(optimal_n)],\n",
        "                             index=[f\"C{i}\" for i in range(optimal_n)])\n",
        "print(\"\\nPairwise distances between GMM cluster centroids:\")\n",
        "print(df_centroids)\n",
        "\n",
        "# Heatmap of centroid distances\n",
        "plt.figure(figsize=(8, 6))\n",
        "sns.heatmap(df_centroids, annot=True, fmt=\".2f\", cmap=\"YlGnBu\")\n",
        "plt.title(\"Centroid Distance Heatmap (GMM + UMAP)\")\n",
        "plt.show()\n",
        "\n",
        "# Prepare final labeled dataframe\n",
        "df_sample = gdf_sample.to_pandas().copy()\n",
        "if 'HeartDisease' in gdf.columns:\n",
        "    df_sample['HeartDisease'] = target_sample.to_pandas().values\n",
        "df_sample['gmm_cluster_centroid'] = gmm_labels\n",
        "\n",
        "df_clusters = df_clusters.join(df_sample[['gmm_cluster_centroid']], how='left')\n",
        "\n",
        "# Cluster size and heart disease rates\n",
        "print(\"\\nGMM Cluster Distribution:\")\n",
        "print(df_sample['gmm_cluster_centroid'].value_counts().sort_index())\n",
        "\n",
        "print(\"\\n Heart Disease Rate per GMM Cluster:\")\n",
        "for i in range(optimal_n):\n",
        "    cluster_mask = df_sample['gmm_cluster_centroid'] == i\n",
        "    if 'HeartDisease' in gdf.columns:\n",
        "        rate = df_sample.loc[cluster_mask, 'HeartDisease'].mean() * 100\n",
        "        print(f\"Cluster {i}: {rate:.2f}% ({cluster_mask.sum()} samples)\")\n",
        "\n",
        "# 3D Visualization of UMAP + GMM\n",
        "fig = plt.figure(figsize=(10, 7))\n",
        "ax = fig.add_subplot(111, projection='3d')\n",
        "scatter = ax.scatter(X_umap.iloc[:, 0], X_umap.iloc[:, 1], X_umap.iloc[:, 2],\n",
        "                     c=gmm_labels, cmap='tab10', s=10, alpha=0.6)\n",
        "plt.title(\"GMM Clustering after UMAP Reduction\")\n",
        "plt.xlabel(\"UMAP-1\")\n",
        "plt.ylabel(\"UMAP-2\")\n",
        "ax.set_zlabel(\"UMAP-3\")\n",
        "plt.grid(True, linestyle='--', alpha=0.5)\n",
        "plt.colorbar(scatter, label=\"GMM Cluster\")\n",
        "plt.show()\n"
      ],
      "metadata": {
        "id": "kh4eB27es2MU"
      },
      "execution_count": null,
      "outputs": []
    },
    {
      "cell_type": "code",
      "source": [
        "from sklearn.metrics import silhouette_score, calinski_harabasz_score, davies_bouldin_score\n",
        "\n",
        "# Ensure UMAP-reduced features and GMM labels are in NumPy format\n",
        "X_umap_np = X_umap_gmm  # UMAP-reduced feature space (NumPy array)\n",
        "labels = gmm_labels     # GMM cluster labels (NumPy array)\n",
        "\n",
        "# Compute clustering quality metrics\n",
        "sil_score = silhouette_score(X_umap_np, labels)\n",
        "ch_score = calinski_harabasz_score(X_umap_np, labels)\n",
        "db_score = davies_bouldin_score(X_umap_np, labels)\n",
        "\n",
        "# Display results\n",
        "print(\"\\n Clustering Quality Evaluation for GMM (after UMAP):\")\n",
        "print(f\" Silhouette Score: {sil_score:.4f}\")\n",
        "print(f\" Calinski-Harabasz Score: {ch_score:.2f}\")\n",
        "print(f\" Davies-Bouldin Score: {db_score:.4f}\")\n"
      ],
      "metadata": {
        "id": "7PORKOUzCIPd"
      },
      "execution_count": null,
      "outputs": []
    },
    {
      "cell_type": "code",
      "source": [
        "import numpy as np\n",
        "import pandas as pd\n",
        "import matplotlib.pyplot as plt\n",
        "import seaborn as sns\n",
        "from sklearn.metrics import silhouette_score, calinski_harabasz_score, davies_bouldin_score\n",
        "\n",
        "# Define feature list based on presence of target column\n",
        "if 'HeartDisease' in gdf.columns:\n",
        "    features = [\n",
        "        'HeartDisease', 'Smoking', 'AlcoholDrinking', 'Stroke',\n",
        "        'DiffWalking', 'Sex', 'Race_White', 'Race_Black', 'Race_Asian',\n",
        "        'Race_Hispanic', 'Race_American Indian/Alaskan Native', 'Diabetic',\n",
        "        'PhysicalActivity', 'GenHealth', 'Asthma',\n",
        "        'KidneyDisease', 'SkinCancer', 'AgeCategoryGrouped',\n",
        "        'SleepTimeScore', 'MentalHealthScore',\n",
        "        'PhysicalHealthScore', 'BMIScore'\n",
        "    ]\n",
        "else:\n",
        "    features = [\n",
        "        'Smoking', 'AlcoholDrinking', 'Stroke',\n",
        "        'DiffWalking', 'Sex', 'Race_White', 'Race_Black', 'Race_Asian',\n",
        "        'Race_Hispanic', 'Race_American Indian/Alaskan Native', 'Diabetic',\n",
        "        'PhysicalActivity', 'GenHealth', 'Asthma',\n",
        "        'KidneyDisease', 'SkinCancer', 'AgeCategoryGrouped',\n",
        "        'SleepTimeScore', 'MentalHealthScore',\n",
        "        'PhysicalHealthScore', 'BMIScore'\n",
        "    ]\n",
        "\n",
        "# Plot feature distributions by cluster\n",
        "def plot_feature_distributions(df, cluster_column, features):\n",
        "    \"\"\"\n",
        "    Visualizes feature distributions for each cluster.\n",
        "    \"\"\"\n",
        "    n_clusters = df[cluster_column].nunique()\n",
        "    numeric_features = [f for f in features if df[f].dtype in ['float64', 'int64']]\n",
        "    n_features = len(numeric_features)\n",
        "\n",
        "    fig, axes = plt.subplots(n_features, n_clusters, figsize=(4*n_clusters, 4*n_features), squeeze=False)\n",
        "\n",
        "    for i, feature in enumerate(numeric_features):\n",
        "        for j in range(n_clusters):\n",
        "            cluster_data = df[df[cluster_column] == j][feature]\n",
        "            sns.histplot(cluster_data, kde=True, ax=axes[i, j])\n",
        "            axes[i, j].set_title(f'Cluster {j} - {feature}')\n",
        "            axes[i, j].set_xlabel(feature)\n",
        "            axes[i, j].set_ylabel('Frequency')\n",
        "\n",
        "    plt.tight_layout()\n",
        "    plt.show()\n",
        "\n",
        "#Evaluate clustering metrics\n",
        "def evaluate_clustering(X, labels):\n",
        "    \"\"\"\n",
        "    Computes clustering quality metrics.\n",
        "    \"\"\"\n",
        "    metrics = {\n",
        "        'Silhouette Score': silhouette_score(X, labels),\n",
        "        'Calinski-Harabasz Index': calinski_harabasz_score(X, labels),\n",
        "        'Davies-Bouldin Index': davies_bouldin_score(X, labels)\n",
        "    }\n",
        "    return metrics\n",
        "\n",
        "# Plot GMM cluster centroids\n",
        "def plot_cluster_centroids(gmm, feature_names):\n",
        "    \"\"\"\n",
        "    Plots heatmap of GMM cluster centroids.\n",
        "    \"\"\"\n",
        "    centroids = gmm.means_\n",
        "\n",
        "    plt.figure(figsize=(15, 8))\n",
        "    sns.heatmap(centroids, annot=True, cmap='coolwarm',\n",
        "                xticklabels=feature_names,\n",
        "                yticklabels=[f'Cluster {i}' for i in range(len(centroids))])\n",
        "    plt.title('GMM Cluster Centroids')\n",
        "    plt.xticks(rotation=45, ha='right')\n",
        "    plt.tight_layout()\n",
        "    plt.show()\n",
        "\n",
        "# Profile each cluster\n",
        "def analyze_cluster_profiles(df, cluster_column, features):\n",
        "    \"\"\"\n",
        "    Returns a profile of each cluster: mean/std for numeric and top frequency for categorical features.\n",
        "    \"\"\"\n",
        "    numeric_features = [f for f in features if df[f].dtype in ['float64', 'int64']]\n",
        "    numeric_agg = {f: ['mean', 'std'] for f in numeric_features}\n",
        "\n",
        "    categorical_features = [f for f in features if f not in numeric_features]\n",
        "    cat_agg = {f: lambda x: x.value_counts(normalize=True).iloc[0] if len(x.value_counts()) > 0 else np.nan\n",
        "               for f in categorical_features}\n",
        "\n",
        "    agg_dict = {**numeric_agg, **cat_agg}\n",
        "    cluster_profile = df.groupby(cluster_column).agg(agg_dict)\n",
        "\n",
        "    return cluster_profile\n",
        "\n",
        "# Main execution\n",
        "# 1. Plot feature distributions\n",
        "plot_feature_distributions(df_sample, 'gmm_cluster_centroid', features)\n",
        "\n",
        "# 2. Evaluate clustering quality\n",
        "clustering_metrics = evaluate_clustering(X_scaled, gmm_labels)\n",
        "print(\"\\n Clustering Quality Metrics:\")\n",
        "for metric, value in clustering_metrics.items():\n",
        "    print(f\"{metric}: {value\n"
      ],
      "metadata": {
        "id": "9cx9F2Dc8Nnf"
      },
      "execution_count": null,
      "outputs": []
    },
    {
      "cell_type": "markdown",
      "metadata": {
        "id": "Zvy8AcfxncuT"
      },
      "source": [
        "#Spectral Clustering"
      ]
    },
    {
      "cell_type": "code",
      "source": [
        "#df_clusters.drop(columns=['spectral_cluster'], inplace=True)"
      ],
      "metadata": {
        "id": "WM2mQZ_n4YBL"
      },
      "execution_count": null,
      "outputs": []
    },
    {
      "cell_type": "code",
      "execution_count": null,
      "metadata": {
        "id": "6iKKMjv7nQYY",
        "collapsed": true
      },
      "outputs": [],
      "source": [
        "import pandas as pd\n",
        "import numpy as np\n",
        "import matplotlib.pyplot as plt\n",
        "import seaborn as sns\n",
        "from sklearn.cluster import SpectralClustering\n",
        "from sklearn.preprocessing import StandardScaler\n",
        "from sklearn.decomposition import PCA\n",
        "from sklearn.manifold import TSNE\n",
        "from sklearn.metrics import silhouette_score, calinski_harabasz_score, davies_bouldin_score\n",
        "\n",
        "# Data preparation and optional sampling\n",
        "gdf_copy = df_dropHD\n",
        "if len(gdf_copy) > 35000:\n",
        "    gdf_sample = gdf_copy.sample(n=35000, random_state=42)\n",
        "else:\n",
        "    gdf_sample = gdf_copy\n",
        "\n",
        "# Scaling the data\n",
        "X = gdf_sample.to_pandas()\n",
        "scaler = StandardScaler()\n",
        "X_scaled = scaler.fit_transform(X)\n",
        "\n",
        "# Dimensionality reduction with PCA\n",
        "pca = PCA(n_components=13, random_state=42)\n",
        "X_pca = pca.fit_transform(X_scaled)\n",
        "\n",
        "# Apply Spectral Clustering\n",
        "spectral = SpectralClustering(n_clusters=8, random_state=42, affinity='nearest_neighbors')\n",
        "spectral_labels = spectral.fit_predict(X_pca)\n",
        "\n",
        "# Assign cluster labels to DataFrame\n",
        "df_sample = X.copy()\n",
        "df_sample['spectral_cluster'] = spectral_labels\n",
        "\n",
        "# Cluster distribution\n",
        "print(\"📊 Spectral Clustering Distribution (on X_scaled):\")\n",
        "print(pd.Series(spectral_labels).value_counts().sort_index())\n",
        "\n",
        "# Detailed analysis of Cluster 2\n",
        "cluster_2 = df_sample[df_sample['spectral_cluster'] == 2]\n",
        "print(f\"\\n📦 Cluster 2: {len(cluster_2)} samples\")\n",
        "\n",
        "print(\"\\n📈 Mean values of selected features:\")\n",
        "print(cluster_2[['GenHealth', 'BMIScore', 'PhysicalHealthScore',\n",
        "                 'MentalHealthScore', 'SleepTimeScore', 'Diabetic',\n",
        "                 'AgeCategoryGrouped']].mean())\n",
        "\n",
        "print(\"\\n🧬 Binary feature proportions:\")\n",
        "binary_features = [\n",
        "    'Smoking', 'AlcoholDrinking', 'Stroke', 'DiffWalking', 'Sex',\n",
        "    'PhysicalActivity', 'Asthma', 'KidneyDisease', 'SkinCancer',\n",
        "    'Race_White', 'Race_Black', 'Race_Asian', 'Race_Hispanic',\n",
        "    'Race_American Indian/Alaskan Native'\n",
        "]\n",
        "\n",
        "for feature in binary_features:\n",
        "    if feature in df_sample.columns:\n",
        "        print(f\"{feature}: {cluster_2[feature].mean() * 100:.2f}%\")\n",
        "\n",
        "# Join cluster labels with df_clusters\n",
        "df_clusters = df_clusters.join(df_sample[['spectral_cluster']], how='left')\n",
        "df_clusters['spectral_cluster'] = df_sample['spectral_cluster']\n",
        "\n",
        "# Comparison with the overall population\n",
        "print(\"\\n📉 Comparison with overall sample:\")\n",
        "all_sample = df_sample\n",
        "for feature in ['BMIScore', 'PhysicalHealthScore', 'MentalHealth_normalized', 'SleepTimeScore'] + binary_features:\n",
        "    if feature in df_sample.columns:\n",
        "        cluster_mean = cluster_2[feature].mean()\n",
        "        all_mean = all_sample[feature].mean()\n",
        "        diff = (cluster_mean - all_mean) / all_mean * 100 if all_mean != 0 else float('inf')\n",
        "        print(f\"{feature}: {diff:+.2f}% compared to overall average\")\n",
        "\n",
        "# Cluster quality metrics\n",
        "sil = silhouette_score(X_scaled, spectral_labels)\n",
        "ch = calinski_harabasz_score(X_scaled, spectral_labels)\n",
        "db = davies_bouldin_score(X_scaled, spectral_labels)\n",
        "\n",
        "print(\"\\n📈 Clustering Quality Metrics:\")\n",
        "print(f\"Silhouette Score: {sil:.4f}\")\n",
        "print(f\"Calinski-Harabasz Score: {ch:.2f}\")\n",
        "print(f\"Davies-Bouldin Score: {db:.4f}\")\n",
        "\n",
        "# t-SNE visualization\n",
        "tsne = TSNE(n_components=2, perplexity=30, n_iter=1000, random_state=42)\n",
        "X_tsne = tsne.fit_transform(X_scaled)\n",
        "\n",
        "df_sample['TSNE1'] = X_tsne[:, 0]\n",
        "df_sample['TSNE2'] = X_tsne[:, 1]\n",
        "\n",
        "# Visualize clusters with t-SNE\n",
        "plt.figure(figsize=(12, 8))\n",
        "scatter = plt.scatter(df_sample[\"TSNE1\"], df_sample[\"TSNE2\"],\n",
        "                      c=df_sample[\"spectral_cluster\"], cmap='tab20', s=10, alpha=0.7)\n",
        "plt.colorbar(scatter, label=\"Spectral Cluster\")\n",
        "plt.title(\"t-SNE Visualization of Spectral Clustering (on X_scaled)\")\n",
        "plt.xlabel(\"TSNE-1\")\n",
        "plt.ylabel(\"TSNE-2\")\n",
        "plt.grid(True, linestyle='--', alpha=0.5)\n",
        "plt.tight_layout()\n",
        "plt.show()\n"
      ]
    },
    {
      "cell_type": "markdown",
      "metadata": {
        "id": "CHOuAv2SUmYY"
      },
      "source": [
        "#Leiden"
      ]
    },
    {
      "cell_type": "code",
      "execution_count": null,
      "metadata": {
        "collapsed": true,
        "id": "Y153mQPamUqN"
      },
      "outputs": [],
      "source": [
        "\n",
        "!pip install python-igraph\n",
        "!pip install leidenalg\n"
      ]
    },
    {
      "cell_type": "code",
      "source": [
        "import pandas as pd\n",
        "import numpy as np\n",
        "import cudf\n",
        "from cuml.manifold import UMAP\n",
        "from sklearn.preprocessing import StandardScaler\n",
        "import igraph as ig\n",
        "import leidenalg\n",
        "import matplotlib.pyplot as plt\n",
        "from sklearn.neighbors import NearestNeighbors\n",
        "\n",
        "# 1. Extract target variable if available\n",
        "if 'HeartDisease' in gdf.columns:\n",
        "    target = gdf[\"HeartDisease\"]\n",
        "\n",
        "# 2. Remove target from features and prepare a sample\n",
        "gdf_features = df_dropHD\n",
        "gdf_copy = gdf.copy()\n",
        "\n",
        "# Sampling if dataset is large\n",
        "if len(gdf_copy) > 35000:\n",
        "    gdf_sample = gdf_copy.sample(n=35000, random_state=42)\n",
        "else:\n",
        "    gdf_sample = gdf_copy\n",
        "\n",
        "# Sync target with sample\n",
        "if 'HeartDisease' in gdf.columns:\n",
        "    target_sample = target[gdf_sample.index]\n",
        "\n",
        "# 3. Standard scaling on CPU\n",
        "X_scaled = StandardScaler().fit_transform(gdf_sample.to_pandas())\n",
        "\n",
        "# 4. Back to GPU with cuDF\n",
        "gdf_scaled = cudf.DataFrame.from_pandas(pd.DataFrame(X_scaled, columns=gdf_sample.columns))\n",
        "\n",
        "# 5. Dimensionality reduction with UMAP on GPU\n",
        "umap_model = UMAP(n_components=3, n_neighbors=25, min_dist=0.2, random_state=42)\n",
        "embedding = umap_model.fit_transform(gdf_scaled).to_pandas().values\n",
        "\n",
        "# 6. Build kNN graph (on CPU)\n",
        "nbrs = NearestNeighbors(n_neighbors=25, algorithm='ball_tree').fit(gdf_scaled.to_pandas())\n",
        "knn_graph = nbrs.kneighbors_graph(mode='connectivity')\n",
        "\n",
        "# 7. Convert graph to edge list\n",
        "edges = []\n",
        "knn_csr = knn_graph.tocsr()\n",
        "for i in range(knn_csr.shape[0]):\n",
        "    for j in knn_csr.indices[knn_csr.indptr[i]:knn_csr.indptr[i+1]]:\n",
        "        if i != j:\n",
        "            edges.append((i, j))\n",
        "\n",
        "# 8. Leiden clustering on kNN graph\n",
        "g = ig.Graph()\n",
        "g.add_vertices(gdf_scaled.shape[0])\n",
        "g.add_edges(edges)\n",
        "\n",
        "partition = leidenalg.find_partition(\n",
        "    g,\n",
        "    leidenalg.RBConfigurationVertexPartition,\n",
        "    resolution_parameter=0.8\n",
        ")\n",
        "leiden_labels = partition.membership\n",
        "\n",
        "# 9. Final DataFrame assembly\n",
        "df_sample = gdf_sample.to_pandas().copy()\n",
        "df_sample[\"leiden_cluster\"] = leiden_labels\n",
        "\n",
        "if 'HeartDisease' in gdf.columns:\n",
        "    df_sample[\"HeartDisease\"] = target_sample.to_pandas()\n",
        "\n",
        "df_sample[\"UMAP1\"] = embedding[:, 0]\n",
        "df_sample[\"UMAP2\"] = embedding[:, 1]\n",
        "\n",
        "df_clusters = df_clusters.join(df_sample[['leiden_cluster']], how='left')\n",
        "\n",
        "# 10. Visualization of Leiden clusters in UMAP space\n",
        "plt.figure(figsize=(12, 8))\n",
        "scatter = plt.scatter(\n",
        "    df_sample[\"UMAP1\"], df_sample[\"UMAP2\"],\n",
        "    c=df_sample[\"leiden_cluster\"],\n",
        "    cmap='tab20', s=10, alpha=0.7\n",
        ")\n",
        "plt.colorbar(scatter, label=\"Leiden Cluster\")\n",
        "plt.title(\"UMAP (GPU) + Leiden Clustering (sample of 15k points)\")\n",
        "plt.xlabel(\"UMAP-1\")\n",
        "plt.ylabel(\"UMAP-2\")\n",
        "plt.grid(True, linestyle='--', alpha=0.5)\n",
        "plt.tight_layout()\n",
        "plt.show()\n",
        "\n",
        "# Save clustered dataset\n",
        "df_sample.to_parquet(\"leiden_umap_clusters.parquet\", index=False)\n",
        "print(\"Data saved to: leiden_umap_clusters.parquet\")\n"
      ],
      "metadata": {
        "id": "PDd-L1tXasH9"
      },
      "execution_count": null,
      "outputs": []
    },
    {
      "cell_type": "code",
      "source": [
        "from sklearn.metrics import silhouette_score, calinski_harabasz_score, davies_bouldin_score\n",
        "\n",
        "sil = silhouette_score(embedding[:, :2], leiden_labels)\n",
        "ch = calinski_harabasz_score(embedding[:, :2], leiden_labels)\n",
        "db = davies_bouldin_score(embedding[:, :2], leiden_labels)\n",
        "\n",
        "print(f\"\\n Leiden кластеризация (UMAP):\")\n",
        "print(f\"Silhouette Score: {sil:.4f}\")\n",
        "print(f\"Calinski-Harabasz Score: {ch:.2f}\")\n",
        "print(f\"Davies-Bouldin Score: {db:.4f}\")\n"
      ],
      "metadata": {
        "id": "QpHKn94jDV7a"
      },
      "execution_count": null,
      "outputs": []
    },
    {
      "cell_type": "code",
      "source": [
        "if 'HeartDisease' in gdf.columns:\n",
        "  #All data without HD (HD is target)**\n",
        "  # Подсчёт числа точек и средней частоты болезни в каждом кластере\n",
        "  cluster_stats = df_sample.groupby(\"leiden_cluster\")[\"HeartDisease\"].agg(\n",
        "      Count=\"count\",\n",
        "      HeartDiseaseRate=\"mean\"\n",
        "  ).sort_values(by=\"HeartDiseaseRate\", ascending=False).round(3)\n",
        "\n",
        "  # Показать топ-10 кластеров с самой высокой долей заболеваний\n",
        "  display(cluster_stats.head(10))"
      ],
      "metadata": {
        "id": "Knsr_bEloiQL"
      },
      "execution_count": null,
      "outputs": []
    },
    {
      "cell_type": "code",
      "source": [
        "import matplotlib.pyplot as plt\n",
        "\n",
        "# cluster with highest risk\n",
        "high_risk_clusters = [18, 14, 13]\n",
        "\n",
        "# high risk — painted, else  — grey\n",
        "colors = df_sample[\"leiden_cluster\"].apply(lambda x: x if x in high_risk_clusters else -1)\n",
        "\n",
        "# vizualization\n",
        "plt.figure(figsize=(12, 8))\n",
        "scatter = plt.scatter(df_sample[\"UMAP1\"], df_sample[\"UMAP2\"],\n",
        "                      c=colors, cmap='Set1', s=10, alpha=0.7)\n",
        "plt.colorbar(scatter, label=\"Кластеры высокого риска (остальные — серые)\")\n",
        "plt.title(\"Подсветка кластеров с высоким риском HeartDisease\")\n",
        "plt.xlabel(\"UMAP-1\")\n",
        "plt.ylabel(\"UMAP-2\")\n",
        "plt.grid(True, linestyle='--', alpha=0.5)\n",
        "plt.show()\n"
      ],
      "metadata": {
        "id": "TXiD5nMCqQia"
      },
      "execution_count": null,
      "outputs": []
    },
    {
      "cell_type": "markdown",
      "source": [
        "# Creating clusters labelless for statistical estimation\n"
      ],
      "metadata": {
        "id": "MR3pJalq07g_"
      }
    },
    {
      "cell_type": "code",
      "source": [
        "# cluster_kmeans_pca, cluster_kmeans_umap ward_cluster, dbscan_cluster, gmm_cluster, spectral_cluster, leiden_cluster,\n",
        "cluster_labels = {\n",
        "    'K-means-PCA': df_clusters['cluster_kmeans_pca'],\n",
        "    'Ward': df_clusters['ward_cluster'],\n",
        "    'Spectral': df_clusters['spectral_cluster'],\n",
        "    'Leiden': df_clusters['leiden_cluster'],\n",
        "    'K-means-UMAP': df_clusters['cluster_kmeans_umap'],\n",
        "    'Gaussian-centroid': df_clusters['gmm_cluster_centroid'],\n",
        "    'DBSCAN': df_clusters['dbscan_cluster']\n",
        "}"
      ],
      "metadata": {
        "id": "fN6ZR85s1A1L"
      },
      "execution_count": null,
      "outputs": []
    },
    {
      "cell_type": "code",
      "source": [
        "custom_X = {\n",
        "    'K-means-PCA': X_pca,\n",
        "    'K-means-UMAP': X_umap,\n",
        "    'Spectral': X_scaled,\n",
        "    'DBSCAN': X_umap,\n",
        "    'Gaussian-centroid': X_umap,\n",
        "    'Leiden': X_umap,\n",
        "    'Ward': X_pca\n",
        "}\n"
      ],
      "metadata": {
        "id": "uPcxMrT5SBEY"
      },
      "execution_count": null,
      "outputs": []
    },
    {
      "cell_type": "markdown",
      "source": [
        "#Anomaly detection\n",
        "\n"
      ],
      "metadata": {
        "id": "X7QUPtuwl7Dz"
      }
    },
    {
      "cell_type": "markdown",
      "metadata": {
        "id": "FjYaYP_HsvEC"
      },
      "source": [
        "Isolation Forest для обнаружения аномалий\n"
      ]
    },
    {
      "cell_type": "code",
      "source": [
        "from sklearn.ensemble import IsolationForest\n",
        "from sklearn.decomposition import PCA\n",
        "import matplotlib.pyplot as plt\n",
        "\n",
        "# Prepare the dataset\n",
        "df_sample = df_dropHD.to_pandas()\n",
        "\n",
        "# Select only features for anomaly detection\n",
        "X = df_sample.copy()  # Exclude labels/clusters if necessary\n",
        "\n",
        "# 🔍 Isolation Forest for anomaly detection\n",
        "iso = IsolationForest(n_estimators=100, contamination=0.01, random_state=42)\n",
        "df_sample['anomaly_iforest'] = iso.fit_predict(X)  # -1 = anomaly, 1 = normal\n",
        "\n",
        "# Join anomaly labels with cluster dataset\n",
        "df_clusters = df_clusters.join(df_sample[['anomaly_iforest']], how='left')\n",
        "df_clusters['anomaly_iforest'] = df_sample['anomaly_iforest']\n",
        "\n",
        "# 📊 Count anomalies vs. normal instances\n",
        "anomaly_counts = df_sample['anomaly_iforest'].value_counts()\n",
        "\n",
        "# 🧬 PCA for 2D visualization\n",
        "pca = PCA(n_components=2, random_state=42)\n",
        "X_pca = pca.fit_transform(X)\n",
        "df_sample['PCA1'] = X_pca[:, 0]\n",
        "df_sample['PCA2'] = X_pca[:, 1]\n",
        "\n",
        "# 📈 Plot the anomalies on PCA projection\n",
        "plt.figure(figsize=(6, 6))\n",
        "colors = df_sample['anomaly_iforest'].map({1: 'blue', -1: 'red'})\n",
        "plt.scatter(df_sample['PCA1'], df_sample['PCA2'], c=colors, alpha=0.5)\n",
        "plt.title(\"Anomalies (Isolation Forest) on PCA Projection\")\n",
        "plt.xlabel(\"PCA 1\")\n",
        "plt.ylabel(\"PCA 2\")\n",
        "plt.legend([\"Normal\", \"Anomaly\"])\n",
        "plt.grid(True, linestyle='--', alpha=0.6)\n",
        "plt.tight_layout()\n",
        "plt.show()\n",
        "\n",
        "# 📋 Return anomaly counts\n",
        "anomaly_counts\n"
      ],
      "metadata": {
        "id": "Z9w7eHEl1UKI"
      },
      "execution_count": null,
      "outputs": []
    },
    {
      "cell_type": "markdown",
      "source": [
        "Local Outlier Factor (LOF)"
      ],
      "metadata": {
        "id": "soX7PX7q3Oxs"
      }
    },
    {
      "cell_type": "code",
      "source": [
        "import pandas as pd\n",
        "from sklearn.neighbors import LocalOutlierFactor\n",
        "from sklearn.decomposition import PCA\n",
        "import matplotlib.pyplot as plt\n",
        "\n",
        "# Assuming 'df' is your DataFrame and 'X_numeric' contains only numerical features\n",
        "df_sample = df_dropHD.copy()\n",
        "# Convert to Pandas DataFrame before using string indices\n",
        "df_sample = df_sample.to_pandas()\n",
        "X_numeric = df_sample.to_numpy()  # Convert to numpy array if needed for LOF\n",
        "\n",
        "# PCA for visualization (if you haven't already performed it)\n",
        "pca = PCA(n_components=2, random_state=42)\n",
        "X_pca = pca.fit_transform(X_numeric)\n",
        "\n",
        "\n",
        "# Local Outlier Factor (LOF)\n",
        "lof = LocalOutlierFactor(n_neighbors=20, contamination=0.01)  # Adjust parameters as needed\n",
        "df_sample['anomaly_LOF']  = lof.fit_predict(X_numeric)\n",
        "df_clusters = df_clusters.join(df_sample[['anomaly_LOF']], how='left')\n",
        "df_clusters['anomaly_LOF'] = df_sample['anomaly_LOF']\n",
        "\n",
        "\n",
        "# Visualize LOF results\n",
        "plt.figure(figsize=(6, 6))\n",
        "plt.scatter(X_pca[:, 0], X_pca[:, 1], c=['red' if p == -1 else 'blue' for p in df_sample['anomaly_LOF']], alpha=0.5) # Use df_sample['anomaly_LOF']\n",
        "plt.title('Local Outlier Factor')\n",
        "plt.xlabel('PCA 1')\n",
        "plt.ylabel('PCA 2')\n",
        "plt.grid(True)\n",
        "plt.show()\n",
        "\n",
        "# Count the number of anomalies detected by LOF\n",
        "lof_anomaly_count = (df_sample['anomaly_LOF'] == -1).sum() # Calculate anomaly count from df_sample\n",
        "print(f\"Number of anomalies detected by LOF: {lof_anomaly_count}\")"
      ],
      "metadata": {
        "id": "S1S21kKpZt8h"
      },
      "execution_count": null,
      "outputs": []
    },
    {
      "cell_type": "markdown",
      "source": [
        "One-Class SVM (Support Vector Machine)**"
      ],
      "metadata": {
        "id": "IBdkPCE65Kku"
      }
    },
    {
      "cell_type": "code",
      "source": [
        "from sklearn.svm import OneClassSVM\n",
        "\n",
        "# Assuming 'df' is your DataFrame and 'X_numeric' contains only numerical features\n",
        "df_sample = df_dropHD.copy()\n",
        "# Convert to Pandas DataFrame before using string indices\n",
        "df_sample = df_sample.to_pandas()\n",
        "X_numeric = df_sample.to_numpy()  # Convert to numpy array if needed for LOF\n",
        "\n",
        "# PCA for visualization (if you haven't already performed it)\n",
        "pca = PCA(n_components=2, random_state=42)\n",
        "X_pca = pca.fit_transform(X_numeric)\n",
        "\n",
        "# One-Class SVM\n",
        "svm = OneClassSVM(kernel='rbf', nu=0.01, gamma='scale')  # Adjust parameters as needed\n",
        "svm.fit(X_numeric)\n",
        "df_sample['anomaly_svm']  = svm.predict(X_numeric) # Predict anomalies for the entire dataset\n",
        "df_clusters = df_clusters.join(df_sample[['anomaly_svm']], how='left')\n",
        "df_clusters['anomaly_svm'] = df_sample['anomaly_svm']\n",
        "\n",
        "\n",
        "# Visualize One-Class SVM results\n",
        "plt.figure(figsize=(6, 6))\n",
        "# Use df_sample['anomaly_svm'] for consistent coloring\n",
        "plt.scatter(X_pca[:, 0], X_pca[:, 1], c=['red' if p == -1 else 'blue' for p in df_sample['anomaly_svm']], alpha=0.5)\n",
        "plt.title('One-Class SVM')\n",
        "plt.xlabel('PCA 1')\n",
        "plt.ylabel('PCA 2')\n",
        "plt.grid(True)\n",
        "plt.show()\n",
        "\n",
        "# Count the number of anomalies detected by One-Class SVM\n",
        "svm_anomaly_count = (df_sample['anomaly_svm'] == -1).sum() # Calculate anomaly count from df_sample\n",
        "print(f\"Number of anomalies detected by One-Class SVM: {svm_anomaly_count}\")"
      ],
      "metadata": {
        "id": "XkLvEY2Z5Mi9"
      },
      "execution_count": null,
      "outputs": []
    },
    {
      "cell_type": "markdown",
      "source": [
        "Elliptic Envelope"
      ],
      "metadata": {
        "id": "DS4rgmZS5qfu"
      }
    },
    {
      "cell_type": "code",
      "source": [
        "from sklearn.covariance import EllipticEnvelope\n",
        "\n",
        "# Assuming 'df' is your DataFrame and 'X_numeric' contains only numerical features\n",
        "df_sample = df_dropHD.copy()\n",
        "# Convert to Pandas DataFrame before using string indices\n",
        "df_sample = df_sample.to_pandas()\n",
        "X_numeric = df_sample.to_numpy()  # Convert to numpy array if needed for LOF\n",
        "\n",
        "\n",
        "# PCA for visualization (if you haven't already performed it)\n",
        "pca = PCA(n_components=2, random_state=42)\n",
        "X_pca = pca.fit_transform(X_numeric)\n",
        "\n",
        "# Elliptic Envelope\n",
        "ee = EllipticEnvelope(contamination=0.01, random_state=42)  # Adjust parameters as needed\n",
        "ee.fit(X_numeric)\n",
        "df_sample['anomaly_ee']  = ee.predict(X_numeric)\n",
        "df_clusters = df_clusters.join(df_sample[['anomaly_ee']], how='left')\n",
        "df_clusters['anomaly_ee'] = df_sample['anomaly_ee']\n",
        "\n",
        "# Visualize Elliptic Envelope results\n",
        "plt.figure(figsize=(6, 6))\n",
        "# Use df_sample['anomaly_ee'] for coloring to ensure consistent size\n",
        "plt.scatter(X_pca[:, 0], X_pca[:, 1], c=['red' if p == -1 else 'blue' for p in df_sample['anomaly_ee']], alpha=0.5)\n",
        "plt.title('Elliptic Envelope')\n",
        "plt.xlabel('PCA 1')\n",
        "plt.ylabel('PCA 2')\n",
        "plt.grid(True)\n",
        "plt.show()\n",
        "\n",
        "# Count the number of anomalies detected by Elliptic Envelope\n",
        "ee_anomaly_count = (df_sample['anomaly_ee'] == -1).sum() # Use df_sample for consistent anomaly count\n",
        "print(f\"Number of anomalies detected by Elliptic Envelope: {ee_anomaly_count}\")"
      ],
      "metadata": {
        "id": "b5njt49M5uVo"
      },
      "execution_count": null,
      "outputs": []
    },
    {
      "cell_type": "code",
      "source": [
        "import matplotlib.pyplot as plt\n",
        "from sklearn.metrics import roc_auc_score, f1_score\n",
        "\n",
        "if 'HeartDisease' in gdf.columns:\n",
        "    # True labels\n",
        "    true_labels = df_sample['HeartDisease']\n",
        "\n",
        "    # Convert anomaly labels: 1 → normal (0), -1 → anomaly (1)\n",
        "    methods = {\n",
        "        'Elliptic Envelope': df_sample['anomaly_ee'].map({1: 0, -1: 1}),\n",
        "        'One-Class SVM': df_sample['anomaly_svm'].map({1: 0, -1: 1}),\n",
        "        'Isolation Forest': df_sample['anomaly_iforest'].map({1: 0, -1: 1}),\n",
        "        'LOF': df_sample['anomaly_LOF'].map({1: 0, -1: 1})\n",
        "    }\n",
        "\n",
        "    # Store metrics\n",
        "    results = {\n",
        "        'Method': [],\n",
        "        'AUC': [],\n",
        "        'F1-score': []\n",
        "    }\n",
        "\n",
        "    # Compute AUC and F1 for each method\n",
        "    for method, preds in methods.items():\n",
        "        results['Method'].append(method)\n",
        "        results['AUC'].append(roc_auc_score(true_labels, preds))\n",
        "        results['F1-score'].append(f1_score(true_labels, preds))\n",
        "\n",
        "    # Plot the results\n",
        "    x = range(len(results['Method']))\n",
        "    plt.figure(figsize=(10, 6))\n",
        "\n",
        "    plt.bar(x, results['AUC'], width=0.4, label='AUC', align='center')\n",
        "    plt.bar([i + 0.4 for i in x], results['F1-score'], width=0.4, label='F1-score', align='center')\n",
        "\n",
        "    plt.xticks([i + 0.2 for i in x], results['Method'], rotation=45)\n",
        "    plt.ylabel('Score')\n",
        "    plt.title('Comparison of AUC and F1-Score for Anomaly Detection Methods')\n",
        "    plt.legend()\n",
        "    plt.grid(axis='y', linestyle='--', alpha=0.7)\n",
        "    plt.tight_layout()\n",
        "    plt.show()\n"
      ],
      "metadata": {
        "id": "So5LXZh0CO5V"
      },
      "execution_count": null,
      "outputs": []
    },
    {
      "cell_type": "markdown",
      "source": [
        "#Anomaly analise\n",
        "\n",
        "\n",
        "\n",
        "\n",
        "\n",
        "\n",
        "\n"
      ],
      "metadata": {
        "id": "Ye69A0ZF7L4E"
      }
    },
    {
      "cell_type": "code",
      "source": [
        "\"\"\"\n",
        "anomaly_labels = {\n",
        "    'I_Forest': df_clusters['anomaly_iforest'],\n",
        "    'LOF': df_clusters['anomaly_LOF'],\n",
        "    'SVM': df_clusters['anomaly_svm'],\n",
        "    'EE': df_clusters['anomaly_ee']\n",
        "}\n",
        "\"\"\""
      ],
      "metadata": {
        "id": "1XcQntffiznO"
      },
      "execution_count": null,
      "outputs": []
    },
    {
      "cell_type": "code",
      "source": [
        "import matplotlib.pyplot as plt\n",
        "\n",
        "\n",
        "df_sample = df_clusters.copy()\n",
        "\n",
        "anomaly_labels = {\n",
        "    'I_Forest': df_sample['anomaly_iforest'],\n",
        "    'LOF': df_sample['anomaly_LOF'],\n",
        "    'SVM': df_sample['anomaly_svm'],\n",
        "    'EE': df_sample['anomaly_ee']\n",
        "}\n",
        "\n",
        "\n",
        "# Убедись, что размеры совпадают (все методы применяются к одной и той же выборке)\n",
        "df_anomalies = pd.DataFrame(anomaly_labels)\n",
        "\n",
        "# Преобразуем значения: 1 = норма, -1 = аномалия → 1 = аномалия, 0 = норма\n",
        "df_anomalies = df_anomalies.replace({1: 0, -1: 1})\n",
        "\n",
        "# Подсчёт количества методов, отметивших точку как аномалию\n",
        "df_anomalies['anomaly_votes'] = df_anomalies.sum(axis=1)\n",
        "\n",
        "df_sample = df_sample.join(df_anomalies)\n",
        "df_sample.to_csv(\"anomaly_detection_with_votes.csv\", index=False)\n",
        "df_all_anomalies = df_sample[df_sample['anomaly_votes'] == 4]\n",
        "df_some_anomalies = df_sample[df_sample['anomaly_votes'] >= 2]\n",
        "df_all_anomalies.to_csv(\"all_anomalies.csv\", index=False)\n",
        "df_some_anomalies.to_csv(\"some_anomalies.csv\", index=False)\n",
        "\n",
        "\n",
        "# Гистограмма по количеству голосов за аномалию\n",
        "plt.figure(figsize=(8, 5))\n",
        "df_sample['anomaly_votes'].value_counts().sort_index().plot(kind='bar', color='steelblue')\n",
        "plt.title(\"Distribution by the number of methods that recognized the anomaly\")\n",
        "plt.xlabel(\"Number of methods that flagged an anomaly\")\n",
        "plt.ylabel(\"Number of points\")\n",
        "plt.xticks(rotation=0)\n",
        "plt.grid(axis='y', linestyle='--', alpha=0.5)\n",
        "plt.tight_layout()\n",
        "plt.show()"
      ],
      "metadata": {
        "id": "mL9fAly8kwR3"
      },
      "execution_count": null,
      "outputs": []
    },
    {
      "cell_type": "code",
      "source": [
        "if 'HeartDisease' in gdf.columns:\n",
        "  #All data without HD (HD is target)**\n",
        "  for i in range(5):  # from 0 to 4 scores\n",
        "      group = df_sample[df_sample['anomaly_votes'] == i]\n",
        "      if len(group) > 0:\n",
        "          rate = group['HeartDisease'].mean() * 100\n",
        "          print(f\"{len(group):4} points with {i} votes for anomaly → {rate:.2f}% with disease\")\n"
      ],
      "metadata": {
        "id": "SO031SiMcb44"
      },
      "execution_count": null,
      "outputs": []
    },
    {
      "cell_type": "code",
      "source": [
        "import seaborn as sns\n",
        "import matplotlib.pyplot as plt\n",
        "\n",
        "# Assuming the correct column names are 'anomaly_iforest', 'anomaly_LOF', 'anomaly_svm', and 'anomaly_ee':\n",
        "plt.figure(figsize=(6, 5))\n",
        "sns.heatmap(df_sample[['anomaly_iforest', 'anomaly_LOF', 'anomaly_svm', 'anomaly_ee']].corr(),\n",
        "            annot=True, cmap='coolwarm', fmt=\".2f\")\n",
        "plt.title(\"Correlation between anomaly detection methods\")\n",
        "plt.tight_layout()\n",
        "plt.show()"
      ],
      "metadata": {
        "id": "8r_NbeAtcf3F"
      },
      "execution_count": null,
      "outputs": []
    },
    {
      "cell_type": "code",
      "source": [
        "# Select anomalies detected by at least 3 methods\n",
        "df_anomalies = df_sample[df_sample['anomaly_votes'] >= 3].copy()\n",
        "\n",
        "# Features to analyze\n",
        "features_to_analyze = [\n",
        "    'HeartDisease', 'Smoking', 'AlcoholDrinking', 'Stroke',\n",
        "    'DiffWalking', 'Sex', 'Race_White', 'Race_Black', 'Race_Asian',\n",
        "    'Race_Hispanic', 'Race_American Indian/Alaskan Native', 'Diabetic',\n",
        "    'PhysicalActivity', 'GenHealth', 'Asthma',\n",
        "    'KidneyDisease', 'SkinCancer', 'AgeCategoryGrouped',\n",
        "    'SleepTimeScore', 'MentalHealthScore',\n",
        "    'PhysicalHealthScore', 'BMIScore'\n",
        "]\n",
        "\n",
        "# Mean feature values among anomalies\n",
        "anomaly_profile = df_anomalies[features_to_analyze].mean()\n",
        "\n",
        "# Mean feature values in full dataset\n",
        "global_profile = df_sample[features_to_analyze].mean()\n",
        "\n",
        "# Calculate percentage deviation\n",
        "diff = ((anomaly_profile - global_profile) / global_profile) * 100\n",
        "diff = diff.sort_values(ascending=False)\n",
        "\n",
        "# Visualization\n",
        "import matplotlib.pyplot as plt\n",
        "\n",
        "plt.figure(figsize=(12, 6))\n",
        "diff.plot(kind='barh', color='salmon')\n",
        "plt.title(\"Features Most Common in Anomalies (Deviation from Global Average, %)\")\n",
        "plt.xlabel(\"Deviation (%)\")\n",
        "plt.axvline(0, color='black', linestyle='--')\n",
        "plt.grid(True, axis='x', linestyle='--', alpha=0.5)\n",
        "plt.tight_layout()\n",
        "plt.show()\n"
      ],
      "metadata": {
        "id": "M3yLulMgrG8M"
      },
      "execution_count": null,
      "outputs": []
    },
    {
      "cell_type": "markdown",
      "source": [
        "**cравнeние поведение аномальных наблюдений с типичными (нормальными)**"
      ],
      "metadata": {
        "id": "soEF_EZjvGc2"
      }
    },
    {
      "cell_type": "code",
      "source": [
        "import matplotlib.pyplot as plt\n",
        "\n",
        "# Feature list to compare\n",
        "features_to_compare = [\n",
        "    'HeartDisease', 'Smoking', 'AlcoholDrinking', 'Stroke',\n",
        "    'DiffWalking', 'Sex', 'Race_White', 'Race_Black', 'Race_Asian',\n",
        "    'Race_Hispanic', 'Race_American Indian/Alaskan Native', 'Diabetic',\n",
        "    'PhysicalActivity', 'GenHealth', 'Asthma',\n",
        "    'KidneyDisease', 'SkinCancer', 'AgeCategoryGrouped',\n",
        "    'SleepTimeScore', 'MentalHealthScore',\n",
        "    'PhysicalHealthScore', 'BMIScore'\n",
        "]\n",
        "\n",
        "# Select anomaly group (votes >= 3) and normal group (votes == 0)\n",
        "anom = df_sample[df_sample['anomaly_votes'] >= 3]\n",
        "norm = df_sample[df_sample['anomaly_votes'] == 0]\n",
        "\n",
        "# Compute mean values\n",
        "mean_anom = anom[features_to_compare].mean()\n",
        "mean_norm = norm[features_to_compare].mean()\n",
        "\n",
        "# Compute percentage difference and sort\n",
        "delta_percent = ((mean_anom - mean_norm) / mean_norm * 100).sort_values()\n",
        "\n",
        "# Plot differences\n",
        "plt.figure(figsize=(12, 7))\n",
        "delta_percent.plot(kind='barh', color='tomato')\n",
        "plt.axvline(x=0, color='black', linestyle='--')\n",
        "plt.title(\"Feature Comparison: Anomalous vs. Typical (Deviation from Normal, %)\")\n",
        "plt.xlabel(\"Deviation from Normal Group Mean (%)\")\n",
        "plt.tight_layout()\n",
        "plt.show()\n"
      ],
      "metadata": {
        "id": "1d4_MFAMu5-I"
      },
      "execution_count": null,
      "outputs": []
    },
    {
      "cell_type": "code",
      "source": [
        "import matplotlib.pyplot as plt\n",
        "from scipy.stats import mannwhitneyu\n",
        "\n",
        "# 1. Select anomalies found by at least 2 methods\n",
        "df_anomalies = df_sample[df_sample['anomaly_votes'] >= 2].copy()\n",
        "\n",
        "# 2. Features to analyze\n",
        "features_to_analyze = [\n",
        "    'HeartDisease', 'Smoking', 'AlcoholDrinking', 'Stroke',\n",
        "    'DiffWalking', 'Sex', 'Race_White', 'Race_Black', 'Race_Asian',\n",
        "    'Race_Hispanic', 'Race_American Indian/Alaskan Native', 'Diabetic',\n",
        "    'PhysicalActivity', 'GenHealth', 'Asthma',\n",
        "    'KidneyDisease', 'SkinCancer', 'AgeCategoryGrouped',\n",
        "    'SleepTimeScore', 'MentalHealthScore',\n",
        "    'PhysicalHealthScore', 'BMIScore'\n",
        "]\n",
        "\n",
        "# 3. Calculate means\n",
        "anomaly_profile = df_anomalies[features_to_analyze].mean()\n",
        "global_profile = df_sample[features_to_analyze].mean()\n",
        "\n",
        "# 4. Calculate deviation in %\n",
        "diff = ((anomaly_profile - global_profile) / global_profile) * 100\n",
        "diff = diff.sort_values(ascending=False)\n",
        "\n",
        "# 5. Calculate p-values using Mann–Whitney U test\n",
        "p_values = {}\n",
        "for feat in diff.index:\n",
        "    a = df_anomalies[feat].dropna()\n",
        "    b = df_sample[feat].dropna()\n",
        "    _, p = mannwhitneyu(a, b, alternative='two-sided')\n",
        "    p_values[feat] = p\n",
        "\n",
        "# 6. Add significance markers\n",
        "def significance_marker(p):\n",
        "    if p < 0.001:\n",
        "        return '0.001'  # Highly significant\n",
        "    elif p < 0.01:\n",
        "        return '0.01'   # Significant\n",
        "    elif p < 0.05:\n",
        "        return '0.05'    # Somewhat significant\n",
        "    else:\n",
        "        return ''      # Not significant\n",
        "\n",
        "# 7. Bar colors\n",
        "colors = ['salmon' if feat != 'HeartDisease' else 'firebrick' for feat in diff.index]\n",
        "\n",
        "# 8. Plot\n",
        "plt.figure(figsize=(26, 14))\n",
        "# Assign labels directly in the plt.barh function:\n",
        "bars = plt.barh(diff.index, diff.values, color=colors, label=diff.index)\n",
        "plt.title(\"Feature deviation in anomalies (Mann–Whitney U test)\")\n",
        "plt.xlabel(\"Deviation from average (%)\")\n",
        "plt.axvline(0, color='black', linestyle='--')\n",
        "\n",
        "# 9. Add labels with % and significance stars\n",
        "for bar, feat in zip(bars, diff.index): # Iterate through bars and labels together\n",
        "    width = bar.get_width()\n",
        "    label = f\"{width:.1f}% {significance_marker(p_values[feat])}\" # Get label based on current feature\n",
        "    plt.text(width + (2 if width > 0 else -5), bar.get_y() + bar.get_height()/2,\n",
        "             label, va='center', ha='left' if width > 0 else 'right')\n",
        "\n",
        "plt.grid(True, axis='x', linestyle='--', alpha=0.5)\n",
        "plt.tight_layout()\n",
        "plt.show()"
      ],
      "metadata": {
        "id": "rxpV0rsMQyWr"
      },
      "execution_count": null,
      "outputs": []
    },
    {
      "cell_type": "code",
      "source": [
        "import matplotlib.pyplot as plt\n",
        "import seaborn as sns\n",
        "import pandas as pd\n",
        "\n",
        "# Add categorical column for comparison: \"Anomaly\" vs. \"Normal\"\n",
        "df_sample['anomaly_status'] = df_sample['anomaly_votes'].apply(lambda x: 'Anomaly' if x >= 2 else 'Normal')\n",
        "\n",
        "# Select features to compare\n",
        "selected_features = [\n",
        "    'Smoking', 'AlcoholDrinking', 'Stroke',\n",
        "    'DiffWalking', 'Sex', 'Race_White', 'Race_Black', 'Race_Asian',\n",
        "    'Race_Hispanic', 'Race_American Indian/Alaskan Native', 'Diabetic',\n",
        "    'PhysicalActivity', 'GenHealth', 'Asthma',\n",
        "    'KidneyDisease', 'SkinCancer', 'AgeCategoryGrouped',\n",
        "    'SleepTimeScore', 'MentalHealthScore',\n",
        "    'PhysicalHealthScore', 'BMIScore'\n",
        "]\n",
        "\n",
        "# Convert to long format for seaborn boxplot\n",
        "df_long = df_sample[selected_features + ['anomaly_status']].melt(id_vars='anomaly_status')\n",
        "\n",
        "# Plot boxplots\n",
        "plt.figure(figsize=(16, 8))\n",
        "sns.boxplot(data=df_long, x='value', y='variable', hue='anomaly_status', orient='h')\n",
        "plt.title('📊 Feature Distribution Comparison: Anomalies vs. Normals')\n",
        "plt.xlabel('Feature Value')\n",
        "plt.ylabel('Feature')\n",
        "plt.grid(axis='x', linestyle='--', alpha=0.4)\n",
        "plt.tight_layout()\n",
        "plt.show()\n"
      ],
      "metadata": {
        "id": "KEoaQBOSwoU7"
      },
      "execution_count": null,
      "outputs": []
    },
    {
      "cell_type": "markdown",
      "metadata": {
        "id": "Cnxytm75blYP"
      },
      "source": [
        "#Evaluation"
      ]
    },
    {
      "cell_type": "code",
      "source": [
        "#Normalized df_clusters(same clusters created for all data same of them only for part of data)\n",
        "#display(df_clusters)\n"
      ],
      "metadata": {
        "id": "E7Wd6JJXnzxf"
      },
      "execution_count": null,
      "outputs": []
    },
    {
      "cell_type": "markdown",
      "source": [
        "cluster_kmeans_pca,\tcluster_kmeans_umap\tward_cluster,\tdbscan_cluster\tgmm_cluster, gmm_cluster_centroid,\tspectral_cluster,\tleiden_cluster,"
      ],
      "metadata": {
        "id": "rwLlPXrY9NNO"
      }
    },
    {
      "cell_type": "code",
      "source": [
        "!pip install ace_tools"
      ],
      "metadata": {
        "id": "2Mr-2nanrX5V"
      },
      "execution_count": null,
      "outputs": []
    },
    {
      "cell_type": "code",
      "source": [
        "import matplotlib.pyplot as plt\n",
        "from sklearn.metrics import silhouette_score, calinski_harabasz_score, davies_bouldin_score\n",
        "\n",
        "# Dictionary to store results\n",
        "results = {}\n",
        "\n",
        "# List of clustering configurations: (name, feature matrix, labels)\n",
        "configs = [\n",
        "    (\"Spectral\", X_scaled, spectral_labels),\n",
        "    (\"Leiden (UMAP)\", embedding[:, :2], leiden_labels),\n",
        "    (\"GMM (UMAP)\", X_umap_gmm, gmm_labels),\n",
        "    (\"DBSCAN (UMAP)\", X_umap_gpu.to_pandas().values, dbscan_labels.to_pandas().values),\n",
        "    (\"Ward (PCA)\", X_pca, ward_labels),\n",
        "    (\"KMeans (UMAP)\", X_umap.to_pandas(), clusters_KMean_umap.to_pandas().values),\n",
        "    (\"KMeans (PCA)\", X_pca_pd, clusters_KMean_pca.to_pandas())\n",
        "]\n",
        "\n",
        "# Calculate metrics for each clustering\n",
        "for name, X, labels in configs:\n",
        "    sil = silhouette_score(X, labels)\n",
        "    ch = calinski_harabasz_score(X, labels)\n",
        "    db = davies_bouldin_score(X, labels)\n",
        "    results[name] = {\"Silhouette\": sil, \"CH\": ch, \"DB\": db}\n",
        "    print(f\"\\n{name}:\")\n",
        "    print(f\"  🟢 Silhouette Score: {sil:.4f}\")\n",
        "    print(f\"  🟦 Calinski-Harabasz Score: {ch:.2f}\")\n",
        "    print(f\"  🔴 Davies-Bouldin Score: {db:.4f}\")\n",
        "\n",
        "# 📈 Visualization of all metrics\n",
        "names = list(results.keys())\n",
        "sil_values = [results[name][\"Silhouette\"] for name in names]\n",
        "ch_values = [results[name][\"CH\"] for name in names]\n",
        "db_values = [results[name][\"DB\"] for name in names]\n",
        "\n",
        "plt.figure(figsize=(18, 5))\n",
        "\n",
        "plt.subplot(1, 3, 1)\n",
        "plt.barh(names, sil_values, color='mediumseagreen')\n",
        "plt.title(\"Silhouette Score\")\n",
        "plt.xlabel(\"Score\")\n",
        "plt.grid(True)\n",
        "\n",
        "plt.subplot(1, 3, 2)\n",
        "plt.barh(names, ch_values, color='cornflowerblue')\n",
        "plt.title(\"Calinski-Harabasz Score\")\n",
        "plt.xlabel(\"Score\")\n",
        "plt.grid(True)\n",
        "\n",
        "plt.subplot(1, 3, 3)\n",
        "plt.barh(names, db_values, color='salmon')\n",
        "plt.title(\"Davies-Bouldin Score\")\n",
        "plt.xlabel(\"Score (Lower is Better)\")\n",
        "plt.grid(True)\n",
        "\n",
        "plt.suptitle(\"Clustering Quality Comparison Across Methods\", fontsize=14)\n",
        "plt.tight_layout()\n",
        "plt.show()\n"
      ],
      "metadata": {
        "id": "fUfKK2HtwqUM"
      },
      "execution_count": null,
      "outputs": []
    },
    {
      "cell_type": "code",
      "source": [
        "import pandas as pd\n",
        "from scipy.stats import f_oneway\n",
        "import matplotlib.pyplot as plt\n",
        "import seaborn as sns\n",
        "import numpy as np\n",
        "\n",
        "anova_results = []\n",
        "\n",
        "# Algorithms and their corresponding cluster labels\n",
        "algorithms = {\n",
        "    'K-means-UMAP': df_clusters['cluster_kmeans_umap'],\n",
        "    'DBSCAN': df_clusters['dbscan_cluster']\n",
        "}\n",
        "\n",
        "# Perform ANOVA for each feature in each clustering method\n",
        "for algo_name, cluster_labels in algorithms.items():\n",
        "    for feature in df_clusters.columns:\n",
        "        groups = []\n",
        "        for label in np.unique(cluster_labels):\n",
        "            group_values = df_clusters[cluster_labels == label][feature].dropna()\n",
        "            if len(group_values) > 1:\n",
        "                groups.append(group_values)\n",
        "\n",
        "        if len(groups) >= 2:\n",
        "            stat, pval = f_oneway(*groups)\n",
        "            anova_results.append({\n",
        "                'Algorithm': algo_name,\n",
        "                'Feature': f'{algo_name} - {feature}',\n",
        "                'p-value': pval\n",
        "            })\n",
        "\n",
        "# Convert to DataFrame\n",
        "anova_df = pd.DataFrame(anova_results)\n",
        "\n",
        "# Extract feature name and log p-values\n",
        "anova_df['FeatureName'] = anova_df['Feature'].apply(lambda x: x.split(' - ')[1])\n",
        "anova_df['log_p'] = -np.log10(anova_df['p-value'].replace(0, 1e-300))  # avoid log(0)\n",
        "\n",
        "# Plot top 20 features by -log10(p-value) for each algorithm\n",
        "algorithms = ['K-means-UMAP', 'DBSCAN']\n",
        "\n",
        "for algo in algorithms:\n",
        "    subset = anova_df[anova_df['Algorithm'] == algo].sort_values('log_p', ascending=False).head(20)\n",
        "\n",
        "    plt.figure(figsize=(10, 6))\n",
        "    sns.barplot(data=subset, x='log_p', y='FeatureName', palette='viridis')\n",
        "    plt.title(f'🔬 ANOVA Feature Significance — {algo}')\n",
        "    plt.xlabel('-log10(p-value)')\n",
        "    plt.ylabel('Feature')\n",
        "    plt.grid(True, linestyle='--', alpha=0.5)\n",
        "    plt.tight_layout()\n",
        "    plt.show()\n"
      ],
      "metadata": {
        "id": "pJuxsWY2PyNi"
      },
      "execution_count": null,
      "outputs": []
    },
    {
      "cell_type": "code",
      "source": [
        "from matplotlib import pyplot as plt\n",
        "\n",
        "for col in ['Silhouette Score', 'Calinski-Harabasz Score', 'Davies-Bouldin Score']:\n",
        "  metrics_df[col].plot(kind='hist', bins=20, title=col) # Use col to refer to the column name\n",
        "  plt.gca().spines[['top', 'right']].set_visible(False)\n",
        "  metrics_df[col] = metrics_df[col].astype(float)"
      ],
      "metadata": {
        "id": "2cVNs2jvUtP0"
      },
      "execution_count": null,
      "outputs": []
    },
    {
      "cell_type": "markdown",
      "metadata": {
        "id": "6GD_U0k9EXkg"
      },
      "source": [
        "#Comparison of significant"
      ]
    },
    {
      "cell_type": "markdown",
      "source": [
        "df_catigorical = df.copy()\n",
        "\n",
        "df.drop(\"BMI\", axis=1, inplace=True)\n",
        "\n",
        "df.drop(\"PhysicalHealth\", axis=1, inplace=True)\n",
        "\n",
        "df.drop(\"PhysicalHealth_normalized\", axis=1, inplace=True)\n",
        "\n",
        "df.drop(\"MentalHealth\", axis=1, inplace=True)\n",
        "\n",
        "df.drop(\"MentalHealth_normalized\", axis=1, inplace=True)\n",
        "\n",
        "df.drop(\"SleepTime\", axis=1, inplace=True)\n",
        "\n",
        "df.drop(\"Race\", axis=1, inplace=True)\n",
        "\n",
        "df.drop(\"AgeCategory\", axis=1, inplace=True)"
      ],
      "metadata": {
        "id": "te36wLxTz0WG"
      }
    },
    {
      "cell_type": "code",
      "execution_count": null,
      "metadata": {
        "collapsed": true,
        "id": "F5VSRYSuEk82"
      },
      "outputs": [],
      "source": [
        "import seaborn as sns\n",
        "import matplotlib.pyplot as plt\n",
        "\n",
        "if 'HeartDisease' in gdf.columns:\n",
        "    features = [\n",
        "    'HeartDisease', 'Smoking', 'AlcoholDrinking',  'Stroke',\n",
        "    'DiffWalking', 'Sex', 'Race_White', 'Race_Black', 'Race_Asian', 'Race_Other',\n",
        "    'Race_Hispanic', 'Race_American Indian/Alaskan Native',  'Diabetic',\n",
        "    'PhysicalActivity', 'GenHealth', 'Asthma',\n",
        "    'KidneyDisease', 'SkinCancer', 'AgeCategoryGrouped',\n",
        "    'SleepTimeScore', 'MentalHealthScore',\n",
        "    'PhysicalHealthScore','BMIScore']\n",
        "else:\n",
        "  features = [\n",
        "    'Smoking', 'Smoking', 'AlcoholDrinking', 'Stroke',\n",
        "    'DiffWalking', 'Sex', 'Race_White', 'Race_Black', 'Race_Asian', 'Race_Other',\n",
        "    'Race_Hispanic', 'Race_American Indian/Alaskan Native',  'Diabetic',\n",
        "    'PhysicalActivity', 'GenHealth', 'Asthma',\n",
        "    'KidneyDisease', 'SkinCancer', 'AgeCategoryGrouped',\n",
        "    'SleepTimeScore', 'MentalHealthScore',\n",
        "    'PhysicalHealthScore','BMIScore']\n",
        "\n",
        "\n",
        "def plot_cluster_summary(cluster_summary, name):\n",
        "  plt.figure(figsize=(12, 10))\n",
        "  sns.heatmap(cluster_summary, annot=True, fmt=\".2f\", cmap=\"YlGnBu\", cbar_kws={'label': 'Avarage value'})\n",
        "  plt.title(f\"Dividing by fitchers {name}\")\n",
        "  plt.ylabel(\"Fitcher\")\n",
        "  plt.xlabel(\"Clasters\")\n",
        "  plt.tight_layout()\n",
        "  plt.show()\n",
        "  return cluster_summary\n",
        "\n",
        "#for clust in ['cluster_kmeans_pca','cluster_kmeans_umap','ward_cluster','dbscan_cluster','gmm_cluster_centroid','spectral_cluster','leiden_cluster']:\n",
        "for clust in ['cluster_kmeans_umap', 'dbscan_meta_cluster']:\n",
        "  # Grouping into clusters and calculating the average value by features\n",
        "  cluster_summary = df_clusters.groupby(clust)[features].mean().T\n",
        "  claster_term_map = plot_cluster_summary(cluster_summary, clust)\n",
        "  display(cluster_summary)\n",
        "\n",
        "\n",
        "\n"
      ]
    },
    {
      "cell_type": "code",
      "source": [
        "import pandas as pd\n",
        "from scipy.stats import f_oneway\n",
        "import matplotlib.pyplot as plt\n",
        "import seaborn as sns\n",
        "import numpy as np\n",
        "\n",
        "anova_results = []\n",
        "\n",
        "# Define clustering algorithms and their respective cluster labels\n",
        "algorithms = {\n",
        "    'K-means-UMAP': df_clusters['cluster_kmeans_umap'],\n",
        "    'DBSCAN-META': df_clusters['dbscan_meta_cluster']\n",
        "}\n",
        "\n",
        "# Perform ANOVA for each feature across cluster groups\n",
        "for algo_name, cluster_labels in algorithms.items():\n",
        "    for feature in df_clusters.columns:\n",
        "        groups = []\n",
        "        for label in np.unique(cluster_labels):\n",
        "            group_values = df_clusters[cluster_labels == label][feature].dropna()\n",
        "            if len(group_values) > 1:\n",
        "                groups.append(group_values)\n",
        "\n",
        "        if len(groups) >= 2:\n",
        "            stat, pval = f_oneway(*groups)\n",
        "            anova_results.append({\n",
        "                'Algorithm': algo_name,\n",
        "                'Feature': f'{algo_name} - {feature}',\n",
        "                'p-value': pval\n"
      ],
      "metadata": {
        "id": "-BQxyctOH5Ci"
      },
      "execution_count": null,
      "outputs": []
    },
    {
      "cell_type": "code",
      "source": [
        "from scipy.stats import ttest_ind\n",
        "import pandas as pd\n",
        "from itertools import combinations\n",
        "\n",
        "def run_ttest_for_clusters(df, cluster_col, features):\n",
        "    unique_clusters = df[cluster_col].dropna().unique()\n",
        "    results = []\n",
        "\n",
        "    if len(unique_clusters) < 2:\n",
        "        print(f\"⚠️ Not enough clusters for t-test in {cluster_col}\")\n",
        "        return pd.DataFrame()\n",
        "\n",
        "    # Compare all unique pairs of clusters\n",
        "    for cluster1, cluster2 in combinations(unique_clusters, 2):\n",
        "        for feat in features:\n",
        "            values1 = df[df[cluster_col] == cluster1][feat].dropna()\n",
        "            values2 = df[df[cluster_col] == cluster2][feat].dropna()\n",
        "\n",
        "            if len(values1) < 2 or len(values2) < 2:\n",
        "                continue  # Skip if not enough values\n",
        "\n",
        "            stat, pval = ttest_ind(values1, values2, equal_var=False)\n",
        "            results.append({\n",
        "                \"Cluster A\": cluster1,\n",
        "                \"Cluster B\": cluster2,\n",
        "                \"Feature\": feat,\n",
        "                \"t-stat\": stat,\n",
        "                \"p-value\": pval\n",
        "            })\n",
        "\n",
        "    return pd.DataFrame(results).sort_values(\"p-value\")\n",
        "\n",
        "# Run t-tests for two clustering configurations\n",
        "for clust in ['cluster_kmeans_umap', 'dbscan_meta_cluster']:\n",
        "    print(f\"\\n📊 T-test Results for: {clust}\")\n",
        "    ttest_df = run_ttest_for_clusters(df_clusters, clust, features)\n",
        "    display(ttest_df[ttest_df[\"p-value\"] < 0.05])  # Show only statistically significant differences\n"
      ],
      "metadata": {
        "id": "jInhf1zGHbQS"
      },
      "execution_count": null,
      "outputs": []
    },
    {
      "cell_type": "code",
      "source": [
        "df_combined.head(100)"
      ],
      "metadata": {
        "id": "RUkC40KAfzkK"
      },
      "execution_count": null,
      "outputs": []
    },
    {
      "cell_type": "code",
      "source": [
        "import pandas as pd\n",
        "import seaborn as sns\n",
        "import matplotlib.pyplot as plt\n",
        "\n",
        "# Define features to analyze\n",
        "if 'HeartDisease' in gdf.columns:\n",
        "    features_to_analyze = [\n",
        "        'HeartDisease', 'Smoking', 'AlcoholDrinking', 'Stroke',\n",
        "        'DiffWalking', 'Sex', 'Race_White', 'Race_Black', 'Race_Asian', 'Race_Other',\n",
        "        'Race_Hispanic', 'Race_American Indian/Alaskan Native', 'Diabetic',\n",
        "        'PhysicalActivity', 'GenHealth', 'Asthma',\n",
        "        'KidneyDisease', 'SkinCancer', 'AgeCategoryAvarage',\n",
        "        'SleepTime', 'MentalHealth', 'PhysicalHealth', 'BMI'\n",
        "    ]\n",
        "else:\n",
        "    features_to_analyze = [\n",
        "        'Smoking', 'AlcoholDrinking', 'Stroke',\n",
        "        'DiffWalking', 'Sex', 'Race_White', 'Race_Other', 'Race_Asian', 'Race_Black',\n",
        "        'Race_Hispanic', 'Race_American Indian/Alaskan Native', 'Diabetic',\n",
        "        'PhysicalActivity', 'GenHealth', 'Asthma',\n",
        "        'KidneyDisease', 'SkinCancer', 'AgeCategoryAvarage',\n",
        "        'SleepTime', 'MentalHealth', 'PhysicalHealth', 'BMI'\n",
        "    ]\n",
        "\n",
        "# Combine cluster info with feature data\n",
        "df_combined = df_catigorical.loc[df_clusters.index].copy()\n",
        "df_combined['cluster_kmeans_umap'] = df_clusters['cluster_kmeans_umap'].values\n",
        "df_combined['dbscan_meta_cluster'] = df_clusters['dbscan_meta_cluster'].values\n",
        "\n",
        "# Compute cluster-wise feature means\n",
        "profile_kmeans = df_combined.groupby('cluster_kmeans_umap')[features_to_analyze].mean().round(2)\n",
        "profile_kmeans['cluster_type'] = 'KMeans(UMAP)'\n",
        "profile_kmeans['Cluster'] = profile_kmeans.index\n",
        "\n",
        "profile_dbscan = df_combined.groupby('dbscan_meta_cluster')[features_to_analyze].mean().round(2)\n",
        "profile_dbscan['cluster_type'] = 'DBSCAN(Meta)'\n",
        "profile_dbscan['Cluster'] = profile_dbscan.index\n",
        "\n",
        "# Merge profiles\n",
        "cluster_profile = pd.concat([profile_kmeans, profile_dbscan], ignore_index=True)\n",
        "cols = ['cluster_type', 'Cluster'] + features_to_analyze\n",
        "cluster_profile = cluster_profile[cols]\n",
        "\n",
        "# Show the full table\n",
        "pd.set_option('display.max_columns', None)\n",
        "display(cluster_profile)\n",
        "\n",
        "# Robust scaling + visualization function\n",
        "def plot_cluster_summary_robust_scaled(cluster_summary, name):\n",
        "    original = cluster_summary.copy()\n",
        "    scaled = cluster_summary.copy()\n",
        "\n",
        "    # Apply robust scaling (by row)\n",
        "    for i in scaled.index:\n",
        "        row = scaled.loc[i]\n",
        "        median = row.median()\n",
        "        q1 = row.quantile(0.25)\n",
        "        q3 = row.quantile(0.75)\n",
        "        iqr = q3 - q1 if q3 - q1 != 0 else 1e-9\n",
        "        scaled.loc[i] = (row - median) / iqr\n",
        "\n",
        "    # Normalize to [0, 1] for heatmap appearance\n",
        "    scaled_min = scaled.min(axis=1)\n",
        "    scaled_max = scaled.max(axis=1)\n",
        "    scaled = scaled.subtract(scaled_min, axis=0).divide(scaled_max - scaled_min, axis=0)\n",
        "\n",
        "    # Plot\n",
        "    plt.figure(figsize=(12, 10))\n",
        "    sns.heatmap(\n",
        "        scaled,\n",
        "        annot=original,\n",
        "        fmt=\".2f\",\n",
        "        cmap=\"BuGn\",\n",
        "        vmin=0, vmax=1.5,\n",
        "        cbar_kws={'label': 'Robust row-wise normalized'}\n",
        "    )\n",
        "    plt.title(f\"Heatmap with Robust Scaling: {name}\")\n",
        "    plt.xlabel(\"Clusters\")\n",
        "    plt.ylabel(\"Features\")\n",
        "    plt.tight_layout()\n",
        "    plt.show()\n",
        "\n",
        "    return scaled\n",
        "\n",
        "# Plot heatmaps per clustering method\n",
        "for cluster_type in ['KMeans(UMAP)', 'DBSCAN(Meta)']:\n",
        "    subset = cluster_profile[cluster_profile['cluster_type'] == cluster_type]\n",
        "    cluster_summary = subset.drop(columns=['cluster_type']).set_index('Cluster').T\n",
        "    plot_cluster_summary_robust_scaled(cluster_summary, cluster_type)\n"
      ],
      "metadata": {
        "id": "hbr3Ut8f1wNl"
      },
      "execution_count": null,
      "outputs": []
    },
    {
      "cell_type": "code",
      "source": [
        "from scipy.stats import shapiro\n",
        "\n",
        "# Define cluster IDs and features to test\n",
        "cluster_a = 0\n",
        "cluster_b = 3\n",
        "features_to_test = ['AgeCategoryAvarage', 'Smoking', 'HeartDisease']\n",
        "\n",
        "for feature in features_to_test:\n",
        "    values_a = df_combined[df_combined['cluster_kmeans_umap'] == cluster_a][feature].dropna()\n",
        "    values_b = df_combined[df_combined['cluster_kmeans_umap'] == cluster_b][feature].dropna()\n",
        "\n",
        "    # Sample to improve stability if the sample is large\n",
        "    stat_a, p_a = shapiro(values_a.sample(n=min(5000, len(values_a))))\n",
        "    stat_b, p_b = shapiro(values_b.sample(n=min(5000, len(values_b))))\n",
        "\n",
        "    print(f\"\\n🔍 Shapiro-Wilk Test for Feature: {feature}\")\n",
        "    print(f\"Cluster {cluster_a}: p-value = {p_a:.4e} → {'normal' if p_a > 0.05 else 'not normal'} distribution\")\n",
        "    print(f\"Cluster {cluster_b}: p-value = {p_b:.4e} → {'normal' if p_b > 0.05 else 'not normal'} distribution\")\n"
      ],
      "metadata": {
        "id": "YVDW8f-DGvi1"
      },
      "execution_count": null,
      "outputs": []
    },
    {
      "cell_type": "code",
      "source": [
        "from scipy.stats import mannwhitneyu\n",
        "\n",
        "# Кластеры для сравнения\n",
        "cluster_a = 8\n",
        "cluster_b = 16\n",
        "\n",
        "# Признаки для сравнения\n",
        "features_to_test = ['Diabetic', 'AgeCategoryAvarage', 'HeartDisease', 'SleepTime']\n",
        "\n",
        "for feature in features_to_test:\n",
        "    values_a = df_combined[df_combined['cluster_kmeans_umap'] == cluster_a][feature].dropna()\n",
        "    values_b = df_combined[df_combined['cluster_kmeans_umap'] == cluster_b][feature].dropna()\n",
        "\n",
        "    # Mann-Whitney U Test\n",
        "    stat, p_value = mannwhitneyu(values_a, values_b, alternative='two-sided')\n",
        "\n",
        "    print(f\"🔍 {feature}: Mann-Whitney U-statistics = {stat:.4f}, p-value = {p_value:.4e}\")\n",
        "\n",
        "from scipy.stats import spearmanr\n",
        "\n",
        "cor_age_s, p_age_s = spearmanr(df_combined['AgeCategoryAvarage'], df_combined['HeartDisease'])\n",
        "cor_smoke_s, p_smoke_s = spearmanr(df_combined['Smoking'], df_combined['HeartDisease'])\n",
        "\n",
        "\n",
        "#print(f\"Spearman (Age vs HeartDisease): corellation = {cor_age_s:.4f}, p-value = {p_age_s:.4e}\")\n",
        "#print(f\"Spearman (Smoking vs HeartDisease): corellation = {cor_smoke_s:.4f}, p-value = {p_smoke_s:.4e}\")"
      ],
      "metadata": {
        "id": "nIdeDD8HHLjo"
      },
      "execution_count": null,
      "outputs": []
    },
    {
      "cell_type": "code",
      "source": [
        "import statsmodels.api as sm\n",
        "\n",
        "X = df_combined[['AgeCategoryAvarage', 'Smoking']]\n",
        "X = sm.add_constant(X)\n",
        "y = df_combined['HeartDisease']\n",
        "\n",
        "model = sm.Logit(y, X).fit()\n",
        "print(model.summary())\n"
      ],
      "metadata": {
        "id": "jpwl2QT_IhcG"
      },
      "execution_count": null,
      "outputs": []
    },
    {
      "cell_type": "code",
      "source": [
        "import seaborn as sns\n",
        "import matplotlib.pyplot as plt\n",
        "\n",
        "# Select features to visualize\n",
        "features_to_plot = ['AgeCategoryAvarage', 'Smoking', 'HeartDisease']\n",
        "\n",
        "# Create boxplots for each feature across KMeans-UMAP clusters\n",
        "for feature in features_to_plot:\n",
        "    plt.figure(figsize=(8, 5))\n",
        "    sns.boxplot(data=df_combined, x='cluster_kmeans_umap', y=feature, palette='Set2')\n",
        "    plt.title(f\"📦 Boxplot: {feature} Across Clusters (KMeans-UMAP)\")\n",
        "    plt.xlabel(\"Cluster\")\n",
        "    plt.ylabel(feature)\n",
        "    plt.grid(True, linestyle='--', alpha=0.5)\n",
        "    plt.tight_layout()\n",
        "    plt.show()\n"
      ],
      "metadata": {
        "id": "hhUWssWxGc_E"
      },
      "execution_count": null,
      "outputs": []
    }
  ],
  "metadata": {
    "accelerator": "GPU",
    "colab": {
      "collapsed_sections": [
        "IJMgOql5Imid",
        "_jAbrFE2jRzR",
        "-efgvvBIg1lj",
        "vsrZuAvvc_gs",
        "bJuJnzsNZJxg",
        "BhnCR0zenXXk",
        "Zvy8AcfxncuT",
        "Ikq3ql9IVLfC",
        "FjYaYP_HsvEC",
        "6GD_U0k9EXkg"
      ],
      "gpuType": "T4",
      "machine_shape": "hm",
      "provenance": [],
      "include_colab_link": true
    },
    "kernelspec": {
      "display_name": "Python 3",
      "name": "python3"
    },
    "language_info": {
      "name": "python"
    }
  },
  "nbformat": 4,
  "nbformat_minor": 0
}